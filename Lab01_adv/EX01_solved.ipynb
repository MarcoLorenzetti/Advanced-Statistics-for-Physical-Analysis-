{
 "cells": [
  {
   "cell_type": "markdown",
   "id": "c5e55e4d",
   "metadata": {},
   "source": [
    "Lorenzetti Marco - n° matricola: 2056112"
   ]
  },
  {
   "cell_type": "code",
   "execution_count": 1,
   "id": "db4c7293",
   "metadata": {},
   "outputs": [
    {
     "name": "stderr",
     "output_type": "stream",
     "text": [
      "Registered S3 methods overwritten by 'ggplot2':\n",
      "  method         from \n",
      "  [.quosures     rlang\n",
      "  c.quosures     rlang\n",
      "  print.quosures rlang\n"
     ]
    }
   ],
   "source": [
    "library(ggplot2)"
   ]
  },
  {
   "cell_type": "markdown",
   "id": "fd092353",
   "metadata": {},
   "source": [
    "## Exercise 1 - vectors and data frames"
   ]
  },
  {
   "cell_type": "code",
   "execution_count": 2,
   "id": "3a2866dd",
   "metadata": {},
   "outputs": [
    {
     "name": "stdout",
     "output_type": "stream",
     "text": [
      "      Loch Volumes Areas Lengths Max_depths Mean_depths\n",
      "1     Ness    7.45  56.0    39.0        230       132.0\n",
      "2   Lomond    2.60  71.0    36.0        190        37.0\n",
      "3    Morar    2.30  27.0    18.8        310        87.0\n",
      "4      Tay    1.60  26.4    23.0        150        60.6\n",
      "5      Awe    1.20  39.0    41.0         94        32.0\n",
      "6    Maree    1.09  28.6    20.0        114        38.0\n",
      "7   Ericht    1.08  18.6    23.0        156        57.6\n",
      "8    Lochy    1.07  16.0    16.0        162        70.0\n",
      "9  Rannoch    0.97  19.0    15.7        134        51.0\n",
      "10   Shiel    0.79  19.5    28.0        128        40.0\n",
      "11 Katrine    0.77  12.4    12.9        151        43.4\n",
      "12  Arkaig    0.75  16.0    19.3        109        46.5\n",
      "13    Shin    0.35  22.5    27.8         49        15.5\n"
     ]
    }
   ],
   "source": [
    "Loch <- c(\"Ness\",\"Lomond\",\"Morar\",\"Tay\",\"Awe\",\"Maree\",\"Ericht\",\"Lochy\",\"Rannoch\",\"Shiel\",\"Katrine\",\"Arkaig\",\"Shin\")\n",
    "Volumes <- c(7.45,2.6,2.3,1.6,1.2,1.09,1.08,1.07,0.97,0.79,0.77,0.75,0.35)\n",
    "Areas <- c(56,71,27,26.4,39,28.6,18.6,16,19,19.5,12.4,16,22.5)\n",
    "Lengths <- c(39,36,18.8,23,41,20,23,16,15.7,28,12.9,19.3,27.8)\n",
    "Max_depths <- c(230,190,310,150,94,114,156,162,134,128,151,109,49)\n",
    "Mean_depths <- c(132,37,87,60.6,32,38,57.6,70,51,40,43.4,46.5,15.5)\n",
    "scottish.lakes <- data.frame(Loch,Volumes,Areas,Lengths,Max_depths,Mean_depths,stringsAsFactors=FALSE)\n",
    "print(scottish.lakes)"
   ]
  },
  {
   "cell_type": "markdown",
   "id": "d1fe4276",
   "metadata": {},
   "source": [
    "### 1.\n",
    "\n",
    "To obtain the max/min values of areas and volumes i used max() and min(), to specify the Loch name i needed the index of max/min values: that is why i used 4 indexes found with seq() implemented with a condition inside"
   ]
  },
  {
   "cell_type": "code",
   "execution_count": 3,
   "id": "d67f3b2e",
   "metadata": {},
   "outputs": [
    {
     "data": {
      "text/html": [
       "'highest volume: 7.45 m^3 ( Loch Ness )'"
      ],
      "text/latex": [
       "'highest volume: 7.45 m\\textasciicircum{}3 ( Loch Ness )'"
      ],
      "text/markdown": [
       "'highest volume: 7.45 m^3 ( Loch Ness )'"
      ],
      "text/plain": [
       "[1] \"highest volume: 7.45 m^3 ( Loch Ness )\""
      ]
     },
     "metadata": {},
     "output_type": "display_data"
    },
    {
     "data": {
      "text/html": [
       "'lowest volume: 0.35 m^3 ( Loch Shin )'"
      ],
      "text/latex": [
       "'lowest volume: 0.35 m\\textasciicircum{}3 ( Loch Shin )'"
      ],
      "text/markdown": [
       "'lowest volume: 0.35 m^3 ( Loch Shin )'"
      ],
      "text/plain": [
       "[1] \"lowest volume: 0.35 m^3 ( Loch Shin )\""
      ]
     },
     "metadata": {},
     "output_type": "display_data"
    },
    {
     "data": {
      "text/html": [
       "'highest area: 71 m^2 ( Loch Lomond )'"
      ],
      "text/latex": [
       "'highest area: 71 m\\textasciicircum{}2 ( Loch Lomond )'"
      ],
      "text/markdown": [
       "'highest area: 71 m^2 ( Loch Lomond )'"
      ],
      "text/plain": [
       "[1] \"highest area: 71 m^2 ( Loch Lomond )\""
      ]
     },
     "metadata": {},
     "output_type": "display_data"
    },
    {
     "data": {
      "text/html": [
       "'lowest area: 12.4 m^2 ( Loch Katrine )'"
      ],
      "text/latex": [
       "'lowest area: 12.4 m\\textasciicircum{}2 ( Loch Katrine )'"
      ],
      "text/markdown": [
       "'lowest area: 12.4 m^2 ( Loch Katrine )'"
      ],
      "text/plain": [
       "[1] \"lowest area: 12.4 m^2 ( Loch Katrine )\""
      ]
     },
     "metadata": {},
     "output_type": "display_data"
    }
   ],
   "source": [
    "L = length(Loch)\n",
    "index_max_v <- seq(1,L)[Volumes==max(Volumes)]\n",
    "index_min_v <- seq(1,L)[Volumes==min(Volumes)]\n",
    "index_max_a <- seq(1,L)[Areas==max(Areas)]\n",
    "index_min_a <- seq(1,L)[Areas==min(Areas)]\n",
    "sprintf(paste(\"highest volume:\", max(scottish.lakes$Volumes), \"m^3 ( Loch\", scottish.lakes$Loch[index_max_v],\")\"))\n",
    "sprintf(paste(\"lowest volume:\", min(scottish.lakes$Volumes), \"m^3 ( Loch\", scottish.lakes$Loch[index_min_v],\")\"))\n",
    "sprintf(paste(\"highest area:\", max(scottish.lakes$Areas), \"m^2 ( Loch\", scottish.lakes$Loch[index_max_a],\")\"))\n",
    "sprintf(paste(\"lowest area:\", min(scottish.lakes$Areas), \"m^2 ( Loch\", scottish.lakes$Loch[index_min_a],\")\"))"
   ]
  },
  {
   "cell_type": "markdown",
   "id": "5d5d0c5d",
   "metadata": {},
   "source": [
    "### 2.\n",
    "I ordered Loch names and areas in function of the areas, then i printed the first two values for both"
   ]
  },
  {
   "cell_type": "code",
   "execution_count": 4,
   "id": "c0819b67",
   "metadata": {},
   "outputs": [
    {
     "data": {
      "text/html": [
       "'the two largest area lakes are: Lomond 71 m^2 and Ness 56 m^2'"
      ],
      "text/latex": [
       "'the two largest area lakes are: Lomond 71 m\\textasciicircum{}2 and Ness 56 m\\textasciicircum{}2'"
      ],
      "text/markdown": [
       "'the two largest area lakes are: Lomond 71 m^2 and Ness 56 m^2'"
      ],
      "text/plain": [
       "[1] \"the two largest area lakes are: Lomond 71 m^2 and Ness 56 m^2\""
      ]
     },
     "metadata": {},
     "output_type": "display_data"
    }
   ],
   "source": [
    "Loch_areas_ordered <- scottish.lakes[order(scottish.lakes$Areas,decreasing=TRUE),]$Loch\n",
    "Areas_areas_ordered <- scottish.lakes[order(scottish.lakes$Areas,decreasing=TRUE),]$Areas\n",
    "sprintf(paste(\"the two largest area lakes are:\", Loch_areas_ordered[1], Areas_areas_ordered[1], \"m^2 and\",\n",
    "             Loch_areas_ordered[2], Areas_areas_ordered[2], \"m^2\"))"
   ]
  },
  {
   "cell_type": "markdown",
   "id": "0100c790",
   "metadata": {},
   "source": [
    "### 3.\n",
    "Total area can be found just summing the 'Areas' values using sum()"
   ]
  },
  {
   "cell_type": "code",
   "execution_count": 5,
   "id": "ecd89aea",
   "metadata": {},
   "outputs": [
    {
     "data": {
      "text/html": [
       "'the total area covered by the lakes are: 372 m^2'"
      ],
      "text/latex": [
       "'the total area covered by the lakes are: 372 m\\textasciicircum{}2'"
      ],
      "text/markdown": [
       "'the total area covered by the lakes are: 372 m^2'"
      ],
      "text/plain": [
       "[1] \"the total area covered by the lakes are: 372 m^2\""
      ]
     },
     "metadata": {},
     "output_type": "display_data"
    }
   ],
   "source": [
    "tot_area <- sum(scottish.lakes$Areas)\n",
    "sprintf(paste(\"the total area covered by the lakes are:\", tot_area, \"m^2\"))"
   ]
  },
  {
   "cell_type": "markdown",
   "id": "bede620a",
   "metadata": {},
   "source": [
    "## Exercise 2 - Crude Oil Production"
   ]
  },
  {
   "cell_type": "markdown",
   "id": "fbeb6167",
   "metadata": {},
   "source": [
    "### 2.1\n",
    "To read the file i used read.csv(), then i renamed the prices column to simplify the coding process (original name was too long)"
   ]
  },
  {
   "cell_type": "code",
   "execution_count": 6,
   "id": "9fb66a69",
   "metadata": {},
   "outputs": [
    {
     "data": {
      "text/html": [
       "<table>\n",
       "<thead><tr><th scope=col>Entity</th><th scope=col>Code</th><th scope=col>Year</th><th scope=col>Prices</th></tr></thead>\n",
       "<tbody>\n",
       "\t<tr><td>World   </td><td>OWID_WRL</td><td>1861    </td><td>0.49    </td></tr>\n",
       "\t<tr><td>World   </td><td>OWID_WRL</td><td>1862    </td><td>1.05    </td></tr>\n",
       "\t<tr><td>World   </td><td>OWID_WRL</td><td>1863    </td><td>3.15    </td></tr>\n",
       "\t<tr><td>World   </td><td>OWID_WRL</td><td>1864    </td><td>8.06    </td></tr>\n",
       "\t<tr><td>World   </td><td>OWID_WRL</td><td>1865    </td><td>6.59    </td></tr>\n",
       "\t<tr><td>World   </td><td>OWID_WRL</td><td>1866    </td><td>3.74    </td></tr>\n",
       "\t<tr><td>World   </td><td>OWID_WRL</td><td>1867    </td><td>2.41    </td></tr>\n",
       "\t<tr><td>World   </td><td>OWID_WRL</td><td>1868    </td><td>3.63    </td></tr>\n",
       "\t<tr><td>World   </td><td>OWID_WRL</td><td>1869    </td><td>3.64    </td></tr>\n",
       "\t<tr><td>World   </td><td>OWID_WRL</td><td>1870    </td><td>3.86    </td></tr>\n",
       "\t<tr><td>World   </td><td>OWID_WRL</td><td>1871    </td><td>4.34    </td></tr>\n",
       "\t<tr><td>World   </td><td>OWID_WRL</td><td>1872    </td><td>3.64    </td></tr>\n",
       "\t<tr><td>World   </td><td>OWID_WRL</td><td>1873    </td><td>1.83    </td></tr>\n",
       "\t<tr><td>World   </td><td>OWID_WRL</td><td>1874    </td><td>1.17    </td></tr>\n",
       "\t<tr><td>World   </td><td>OWID_WRL</td><td>1875    </td><td>1.35    </td></tr>\n",
       "\t<tr><td>World   </td><td>OWID_WRL</td><td>1876    </td><td>2.56    </td></tr>\n",
       "\t<tr><td>World   </td><td>OWID_WRL</td><td>1877    </td><td>2.42    </td></tr>\n",
       "\t<tr><td>World   </td><td>OWID_WRL</td><td>1878    </td><td>1.19    </td></tr>\n",
       "\t<tr><td>World   </td><td>OWID_WRL</td><td>1879    </td><td>0.86    </td></tr>\n",
       "\t<tr><td>World   </td><td>OWID_WRL</td><td>1880    </td><td>0.95    </td></tr>\n",
       "\t<tr><td>World   </td><td>OWID_WRL</td><td>1881    </td><td>0.86    </td></tr>\n",
       "\t<tr><td>World   </td><td>OWID_WRL</td><td>1882    </td><td>0.78    </td></tr>\n",
       "\t<tr><td>World   </td><td>OWID_WRL</td><td>1883    </td><td>1.00    </td></tr>\n",
       "\t<tr><td>World   </td><td>OWID_WRL</td><td>1884    </td><td>0.84    </td></tr>\n",
       "\t<tr><td>World   </td><td>OWID_WRL</td><td>1885    </td><td>0.88    </td></tr>\n",
       "\t<tr><td>World   </td><td>OWID_WRL</td><td>1886    </td><td>0.71    </td></tr>\n",
       "\t<tr><td>World   </td><td>OWID_WRL</td><td>1887    </td><td>0.67    </td></tr>\n",
       "\t<tr><td>World   </td><td>OWID_WRL</td><td>1888    </td><td>0.88    </td></tr>\n",
       "\t<tr><td>World   </td><td>OWID_WRL</td><td>1889    </td><td>0.94    </td></tr>\n",
       "\t<tr><td>World   </td><td>OWID_WRL</td><td>1890    </td><td>0.87    </td></tr>\n",
       "\t<tr><td>...</td><td>...</td><td>...</td><td>...</td></tr>\n",
       "\t<tr><td>World    </td><td>OWID_WRL </td><td>1991     </td><td> 20.00091</td></tr>\n",
       "\t<tr><td>World    </td><td>OWID_WRL </td><td>1992     </td><td> 19.32084</td></tr>\n",
       "\t<tr><td>World    </td><td>OWID_WRL </td><td>1993     </td><td> 16.97163</td></tr>\n",
       "\t<tr><td>World    </td><td>OWID_WRL </td><td>1994     </td><td> 15.81763</td></tr>\n",
       "\t<tr><td>World    </td><td>OWID_WRL </td><td>1995     </td><td> 17.01668</td></tr>\n",
       "\t<tr><td>World    </td><td>OWID_WRL </td><td>1996     </td><td> 20.66849</td></tr>\n",
       "\t<tr><td>World    </td><td>OWID_WRL </td><td>1997     </td><td> 19.09259</td></tr>\n",
       "\t<tr><td>World    </td><td>OWID_WRL </td><td>1998     </td><td> 12.71566</td></tr>\n",
       "\t<tr><td>World    </td><td>OWID_WRL </td><td>1999     </td><td> 17.97008</td></tr>\n",
       "\t<tr><td>World    </td><td>OWID_WRL </td><td>2000     </td><td> 28.49545</td></tr>\n",
       "\t<tr><td>World    </td><td>OWID_WRL </td><td>2001     </td><td> 24.44389</td></tr>\n",
       "\t<tr><td>World    </td><td>OWID_WRL </td><td>2002     </td><td> 25.02326</td></tr>\n",
       "\t<tr><td>World    </td><td>OWID_WRL </td><td>2003     </td><td> 28.83070</td></tr>\n",
       "\t<tr><td>World    </td><td>OWID_WRL </td><td>2004     </td><td> 38.26500</td></tr>\n",
       "\t<tr><td>World    </td><td>OWID_WRL </td><td>2005     </td><td> 54.52109</td></tr>\n",
       "\t<tr><td>World    </td><td>OWID_WRL </td><td>2006     </td><td> 65.14406</td></tr>\n",
       "\t<tr><td>World    </td><td>OWID_WRL </td><td>2007     </td><td> 72.38908</td></tr>\n",
       "\t<tr><td>World    </td><td>OWID_WRL </td><td>2008     </td><td> 97.25597</td></tr>\n",
       "\t<tr><td>World    </td><td>OWID_WRL </td><td>2009     </td><td> 61.67126</td></tr>\n",
       "\t<tr><td>World    </td><td>OWID_WRL </td><td>2010     </td><td> 79.49553</td></tr>\n",
       "\t<tr><td>World    </td><td>OWID_WRL </td><td>2011     </td><td>111.25560</td></tr>\n",
       "\t<tr><td>World    </td><td>OWID_WRL </td><td>2012     </td><td>111.66970</td></tr>\n",
       "\t<tr><td>World    </td><td>OWID_WRL </td><td>2013     </td><td>108.65852</td></tr>\n",
       "\t<tr><td>World    </td><td>OWID_WRL </td><td>2014     </td><td> 98.94601</td></tr>\n",
       "\t<tr><td>World    </td><td>OWID_WRL </td><td>2015     </td><td> 52.38676</td></tr>\n",
       "\t<tr><td>World    </td><td>OWID_WRL </td><td>2016     </td><td> 43.73417</td></tr>\n",
       "\t<tr><td>World    </td><td>OWID_WRL </td><td>2017     </td><td> 54.19244</td></tr>\n",
       "\t<tr><td>World    </td><td>OWID_WRL </td><td>2018     </td><td> 71.31006</td></tr>\n",
       "\t<tr><td>World    </td><td>OWID_WRL </td><td>2019     </td><td> 64.21057</td></tr>\n",
       "\t<tr><td>World    </td><td>OWID_WRL </td><td>2020     </td><td> 41.83835</td></tr>\n",
       "</tbody>\n",
       "</table>\n"
      ],
      "text/latex": [
       "\\begin{tabular}{r|llll}\n",
       " Entity & Code & Year & Prices\\\\\n",
       "\\hline\n",
       "\t World      & OWID\\_WRL & 1861       & 0.49      \\\\\n",
       "\t World      & OWID\\_WRL & 1862       & 1.05      \\\\\n",
       "\t World      & OWID\\_WRL & 1863       & 3.15      \\\\\n",
       "\t World      & OWID\\_WRL & 1864       & 8.06      \\\\\n",
       "\t World      & OWID\\_WRL & 1865       & 6.59      \\\\\n",
       "\t World      & OWID\\_WRL & 1866       & 3.74      \\\\\n",
       "\t World      & OWID\\_WRL & 1867       & 2.41      \\\\\n",
       "\t World      & OWID\\_WRL & 1868       & 3.63      \\\\\n",
       "\t World      & OWID\\_WRL & 1869       & 3.64      \\\\\n",
       "\t World      & OWID\\_WRL & 1870       & 3.86      \\\\\n",
       "\t World      & OWID\\_WRL & 1871       & 4.34      \\\\\n",
       "\t World      & OWID\\_WRL & 1872       & 3.64      \\\\\n",
       "\t World      & OWID\\_WRL & 1873       & 1.83      \\\\\n",
       "\t World      & OWID\\_WRL & 1874       & 1.17      \\\\\n",
       "\t World      & OWID\\_WRL & 1875       & 1.35      \\\\\n",
       "\t World      & OWID\\_WRL & 1876       & 2.56      \\\\\n",
       "\t World      & OWID\\_WRL & 1877       & 2.42      \\\\\n",
       "\t World      & OWID\\_WRL & 1878       & 1.19      \\\\\n",
       "\t World      & OWID\\_WRL & 1879       & 0.86      \\\\\n",
       "\t World      & OWID\\_WRL & 1880       & 0.95      \\\\\n",
       "\t World      & OWID\\_WRL & 1881       & 0.86      \\\\\n",
       "\t World      & OWID\\_WRL & 1882       & 0.78      \\\\\n",
       "\t World      & OWID\\_WRL & 1883       & 1.00      \\\\\n",
       "\t World      & OWID\\_WRL & 1884       & 0.84      \\\\\n",
       "\t World      & OWID\\_WRL & 1885       & 0.88      \\\\\n",
       "\t World      & OWID\\_WRL & 1886       & 0.71      \\\\\n",
       "\t World      & OWID\\_WRL & 1887       & 0.67      \\\\\n",
       "\t World      & OWID\\_WRL & 1888       & 0.88      \\\\\n",
       "\t World      & OWID\\_WRL & 1889       & 0.94      \\\\\n",
       "\t World      & OWID\\_WRL & 1890       & 0.87      \\\\\n",
       "\t ... & ... & ... & ...\\\\\n",
       "\t World      & OWID\\_WRL & 1991       &  20.00091 \\\\\n",
       "\t World      & OWID\\_WRL & 1992       &  19.32084 \\\\\n",
       "\t World      & OWID\\_WRL & 1993       &  16.97163 \\\\\n",
       "\t World      & OWID\\_WRL & 1994       &  15.81763 \\\\\n",
       "\t World      & OWID\\_WRL & 1995       &  17.01668 \\\\\n",
       "\t World      & OWID\\_WRL & 1996       &  20.66849 \\\\\n",
       "\t World      & OWID\\_WRL & 1997       &  19.09259 \\\\\n",
       "\t World      & OWID\\_WRL & 1998       &  12.71566 \\\\\n",
       "\t World      & OWID\\_WRL & 1999       &  17.97008 \\\\\n",
       "\t World      & OWID\\_WRL & 2000       &  28.49545 \\\\\n",
       "\t World      & OWID\\_WRL & 2001       &  24.44389 \\\\\n",
       "\t World      & OWID\\_WRL & 2002       &  25.02326 \\\\\n",
       "\t World      & OWID\\_WRL & 2003       &  28.83070 \\\\\n",
       "\t World      & OWID\\_WRL & 2004       &  38.26500 \\\\\n",
       "\t World      & OWID\\_WRL & 2005       &  54.52109 \\\\\n",
       "\t World      & OWID\\_WRL & 2006       &  65.14406 \\\\\n",
       "\t World      & OWID\\_WRL & 2007       &  72.38908 \\\\\n",
       "\t World      & OWID\\_WRL & 2008       &  97.25597 \\\\\n",
       "\t World      & OWID\\_WRL & 2009       &  61.67126 \\\\\n",
       "\t World      & OWID\\_WRL & 2010       &  79.49553 \\\\\n",
       "\t World      & OWID\\_WRL & 2011       & 111.25560 \\\\\n",
       "\t World      & OWID\\_WRL & 2012       & 111.66970 \\\\\n",
       "\t World      & OWID\\_WRL & 2013       & 108.65852 \\\\\n",
       "\t World      & OWID\\_WRL & 2014       &  98.94601 \\\\\n",
       "\t World      & OWID\\_WRL & 2015       &  52.38676 \\\\\n",
       "\t World      & OWID\\_WRL & 2016       &  43.73417 \\\\\n",
       "\t World      & OWID\\_WRL & 2017       &  54.19244 \\\\\n",
       "\t World      & OWID\\_WRL & 2018       &  71.31006 \\\\\n",
       "\t World      & OWID\\_WRL & 2019       &  64.21057 \\\\\n",
       "\t World      & OWID\\_WRL & 2020       &  41.83835 \\\\\n",
       "\\end{tabular}\n"
      ],
      "text/markdown": [
       "\n",
       "| Entity | Code | Year | Prices |\n",
       "|---|---|---|---|\n",
       "| World    | OWID_WRL | 1861     | 0.49     |\n",
       "| World    | OWID_WRL | 1862     | 1.05     |\n",
       "| World    | OWID_WRL | 1863     | 3.15     |\n",
       "| World    | OWID_WRL | 1864     | 8.06     |\n",
       "| World    | OWID_WRL | 1865     | 6.59     |\n",
       "| World    | OWID_WRL | 1866     | 3.74     |\n",
       "| World    | OWID_WRL | 1867     | 2.41     |\n",
       "| World    | OWID_WRL | 1868     | 3.63     |\n",
       "| World    | OWID_WRL | 1869     | 3.64     |\n",
       "| World    | OWID_WRL | 1870     | 3.86     |\n",
       "| World    | OWID_WRL | 1871     | 4.34     |\n",
       "| World    | OWID_WRL | 1872     | 3.64     |\n",
       "| World    | OWID_WRL | 1873     | 1.83     |\n",
       "| World    | OWID_WRL | 1874     | 1.17     |\n",
       "| World    | OWID_WRL | 1875     | 1.35     |\n",
       "| World    | OWID_WRL | 1876     | 2.56     |\n",
       "| World    | OWID_WRL | 1877     | 2.42     |\n",
       "| World    | OWID_WRL | 1878     | 1.19     |\n",
       "| World    | OWID_WRL | 1879     | 0.86     |\n",
       "| World    | OWID_WRL | 1880     | 0.95     |\n",
       "| World    | OWID_WRL | 1881     | 0.86     |\n",
       "| World    | OWID_WRL | 1882     | 0.78     |\n",
       "| World    | OWID_WRL | 1883     | 1.00     |\n",
       "| World    | OWID_WRL | 1884     | 0.84     |\n",
       "| World    | OWID_WRL | 1885     | 0.88     |\n",
       "| World    | OWID_WRL | 1886     | 0.71     |\n",
       "| World    | OWID_WRL | 1887     | 0.67     |\n",
       "| World    | OWID_WRL | 1888     | 0.88     |\n",
       "| World    | OWID_WRL | 1889     | 0.94     |\n",
       "| World    | OWID_WRL | 1890     | 0.87     |\n",
       "| ... | ... | ... | ... |\n",
       "| World     | OWID_WRL  | 1991      |  20.00091 |\n",
       "| World     | OWID_WRL  | 1992      |  19.32084 |\n",
       "| World     | OWID_WRL  | 1993      |  16.97163 |\n",
       "| World     | OWID_WRL  | 1994      |  15.81763 |\n",
       "| World     | OWID_WRL  | 1995      |  17.01668 |\n",
       "| World     | OWID_WRL  | 1996      |  20.66849 |\n",
       "| World     | OWID_WRL  | 1997      |  19.09259 |\n",
       "| World     | OWID_WRL  | 1998      |  12.71566 |\n",
       "| World     | OWID_WRL  | 1999      |  17.97008 |\n",
       "| World     | OWID_WRL  | 2000      |  28.49545 |\n",
       "| World     | OWID_WRL  | 2001      |  24.44389 |\n",
       "| World     | OWID_WRL  | 2002      |  25.02326 |\n",
       "| World     | OWID_WRL  | 2003      |  28.83070 |\n",
       "| World     | OWID_WRL  | 2004      |  38.26500 |\n",
       "| World     | OWID_WRL  | 2005      |  54.52109 |\n",
       "| World     | OWID_WRL  | 2006      |  65.14406 |\n",
       "| World     | OWID_WRL  | 2007      |  72.38908 |\n",
       "| World     | OWID_WRL  | 2008      |  97.25597 |\n",
       "| World     | OWID_WRL  | 2009      |  61.67126 |\n",
       "| World     | OWID_WRL  | 2010      |  79.49553 |\n",
       "| World     | OWID_WRL  | 2011      | 111.25560 |\n",
       "| World     | OWID_WRL  | 2012      | 111.66970 |\n",
       "| World     | OWID_WRL  | 2013      | 108.65852 |\n",
       "| World     | OWID_WRL  | 2014      |  98.94601 |\n",
       "| World     | OWID_WRL  | 2015      |  52.38676 |\n",
       "| World     | OWID_WRL  | 2016      |  43.73417 |\n",
       "| World     | OWID_WRL  | 2017      |  54.19244 |\n",
       "| World     | OWID_WRL  | 2018      |  71.31006 |\n",
       "| World     | OWID_WRL  | 2019      |  64.21057 |\n",
       "| World     | OWID_WRL  | 2020      |  41.83835 |\n",
       "\n"
      ],
      "text/plain": [
       "    Entity Code     Year Prices   \n",
       "1   World  OWID_WRL 1861 0.49     \n",
       "2   World  OWID_WRL 1862 1.05     \n",
       "3   World  OWID_WRL 1863 3.15     \n",
       "4   World  OWID_WRL 1864 8.06     \n",
       "5   World  OWID_WRL 1865 6.59     \n",
       "6   World  OWID_WRL 1866 3.74     \n",
       "7   World  OWID_WRL 1867 2.41     \n",
       "8   World  OWID_WRL 1868 3.63     \n",
       "9   World  OWID_WRL 1869 3.64     \n",
       "10  World  OWID_WRL 1870 3.86     \n",
       "11  World  OWID_WRL 1871 4.34     \n",
       "12  World  OWID_WRL 1872 3.64     \n",
       "13  World  OWID_WRL 1873 1.83     \n",
       "14  World  OWID_WRL 1874 1.17     \n",
       "15  World  OWID_WRL 1875 1.35     \n",
       "16  World  OWID_WRL 1876 2.56     \n",
       "17  World  OWID_WRL 1877 2.42     \n",
       "18  World  OWID_WRL 1878 1.19     \n",
       "19  World  OWID_WRL 1879 0.86     \n",
       "20  World  OWID_WRL 1880 0.95     \n",
       "21  World  OWID_WRL 1881 0.86     \n",
       "22  World  OWID_WRL 1882 0.78     \n",
       "23  World  OWID_WRL 1883 1.00     \n",
       "24  World  OWID_WRL 1884 0.84     \n",
       "25  World  OWID_WRL 1885 0.88     \n",
       "26  World  OWID_WRL 1886 0.71     \n",
       "27  World  OWID_WRL 1887 0.67     \n",
       "28  World  OWID_WRL 1888 0.88     \n",
       "29  World  OWID_WRL 1889 0.94     \n",
       "30  World  OWID_WRL 1890 0.87     \n",
       "... ...    ...      ...  ...      \n",
       "131 World  OWID_WRL 1991  20.00091\n",
       "132 World  OWID_WRL 1992  19.32084\n",
       "133 World  OWID_WRL 1993  16.97163\n",
       "134 World  OWID_WRL 1994  15.81763\n",
       "135 World  OWID_WRL 1995  17.01668\n",
       "136 World  OWID_WRL 1996  20.66849\n",
       "137 World  OWID_WRL 1997  19.09259\n",
       "138 World  OWID_WRL 1998  12.71566\n",
       "139 World  OWID_WRL 1999  17.97008\n",
       "140 World  OWID_WRL 2000  28.49545\n",
       "141 World  OWID_WRL 2001  24.44389\n",
       "142 World  OWID_WRL 2002  25.02326\n",
       "143 World  OWID_WRL 2003  28.83070\n",
       "144 World  OWID_WRL 2004  38.26500\n",
       "145 World  OWID_WRL 2005  54.52109\n",
       "146 World  OWID_WRL 2006  65.14406\n",
       "147 World  OWID_WRL 2007  72.38908\n",
       "148 World  OWID_WRL 2008  97.25597\n",
       "149 World  OWID_WRL 2009  61.67126\n",
       "150 World  OWID_WRL 2010  79.49553\n",
       "151 World  OWID_WRL 2011 111.25560\n",
       "152 World  OWID_WRL 2012 111.66970\n",
       "153 World  OWID_WRL 2013 108.65852\n",
       "154 World  OWID_WRL 2014  98.94601\n",
       "155 World  OWID_WRL 2015  52.38676\n",
       "156 World  OWID_WRL 2016  43.73417\n",
       "157 World  OWID_WRL 2017  54.19244\n",
       "158 World  OWID_WRL 2018  71.31006\n",
       "159 World  OWID_WRL 2019  64.21057\n",
       "160 World  OWID_WRL 2020  41.83835"
      ]
     },
     "metadata": {},
     "output_type": "display_data"
    }
   ],
   "source": [
    "data <- read.csv(\"crude-oil-prices.csv\")\n",
    "colnames(data)[4] <- 'Prices'\n",
    "data"
   ]
  },
  {
   "cell_type": "markdown",
   "id": "f588e8cf",
   "metadata": {},
   "source": [
    "### 2.2\n"
   ]
  },
  {
   "cell_type": "code",
   "execution_count": 7,
   "id": "b2099169",
   "metadata": {
    "scrolled": false
   },
   "outputs": [
    {
     "data": {
      "image/png": "[encoded data removed]",
      "text/plain": [
       "plot without title"
      ]
     },
     "metadata": {},
     "output_type": "display_data"
    }
   ],
   "source": [
    "ggplot(data=data, aes(x=Year,y=Prices)) + geom_line(linetype = \"dashed\", color = \"steelblue\")+\n",
    "  geom_point(color = \"steelblue\")"
   ]
  },
  {
   "cell_type": "markdown",
   "id": "e58371f1",
   "metadata": {},
   "source": [
    "### 2.3\n",
    "using which() I can find the year corresponding to the highest price"
   ]
  },
  {
   "cell_type": "code",
   "execution_count": 8,
   "id": "35137e23",
   "metadata": {},
   "outputs": [
    {
     "data": {
      "text/html": [
       "'highest price occurred in 2012 , 111.67 $'"
      ],
      "text/latex": [
       "'highest price occurred in 2012 , 111.67 \\$'"
      ],
      "text/markdown": [
       "'highest price occurred in 2012 , 111.67 $'"
      ],
      "text/plain": [
       "[1] \"highest price occurred in 2012 , 111.67 $\""
      ]
     },
     "metadata": {},
     "output_type": "display_data"
    }
   ],
   "source": [
    "max_price <- max(data$Prices)\n",
    "year_max_price <- data$Year[which(data$Prices==max_price)]\n",
    "sprintf(paste(\"highest price occurred in\", year_max_price, \",\", round(max_price,3), \"$\"))"
   ]
  },
  {
   "cell_type": "markdown",
   "id": "125e20b0",
   "metadata": {},
   "source": [
    "### 2.4\n",
    "using a for loop i created a new vector that contains the difference between the (i+1)-price and the i-price"
   ]
  },
  {
   "cell_type": "code",
   "execution_count": 9,
   "id": "0514b700",
   "metadata": {},
   "outputs": [
    {
     "data": {
      "image/png": "[encoded data removed]",
      "text/plain": [
       "plot without title"
      ]
     },
     "metadata": {},
     "output_type": "display_data"
    }
   ],
   "source": [
    "L <- length(data$Year)\n",
    "der_Prices <- 1:L\n",
    "for (i in 2:L){\n",
    "    \n",
    "    der_Prices[i] <- data$Prices[i+1]-data$Prices[i]\n",
    "}\n",
    "ggplot(data[-L,], aes(x=data$Year[-L])) + \n",
    "        geom_line(aes(y = der_Prices[-L]), color=\"red\") + \n",
    "        labs(x = \"Year\", y= \"Price derivative  (Prices[i+1] - Prices[i])\")"
   ]
  },
  {
   "cell_type": "markdown",
   "id": "99f5a1d5",
   "metadata": {},
   "source": [
    "## Exercise 3 - World Coal Production"
   ]
  },
  {
   "cell_type": "markdown",
   "id": "afa92da7",
   "metadata": {},
   "source": [
    "### 3.1\n",
    "i changed the last column name to simplify the code developing"
   ]
  },
  {
   "cell_type": "code",
   "execution_count": 10,
   "id": "9a46c7a1",
   "metadata": {},
   "outputs": [],
   "source": [
    "db <- read.csv(\"coal-production-by-country.csv\")\n",
    "colnames(db)[4] <- \"Coal_production\""
   ]
  },
  {
   "cell_type": "markdown",
   "id": "bc4441b8",
   "metadata": {},
   "source": [
    "### 3.2"
   ]
  },
  {
   "cell_type": "code",
   "execution_count": 11,
   "id": "b5e15bf9",
   "metadata": {},
   "outputs": [
    {
     "data": {
      "text/html": [
       "'number of entities available in the file: 200'"
      ],
      "text/latex": [
       "'number of entities available in the file: 200'"
      ],
      "text/markdown": [
       "'number of entities available in the file: 200'"
      ],
      "text/plain": [
       "[1] \"number of entities available in the file: 200\""
      ]
     },
     "metadata": {},
     "output_type": "display_data"
    },
    {
     "data": {
      "image/png": "[encoded data removed]",
      "text/plain": [
       "plot without title"
      ]
     },
     "metadata": {},
     "output_type": "display_data"
    }
   ],
   "source": [
    "unique_Countries = unique(db$Entity)\n",
    "N = length(unique_Countries)\n",
    "sprintf(\"number of entities available in the file: %d\", N)\n",
    "count_table <- as.data.frame(table(db$Entity))\n",
    "colnames(count_table) <- c(\"entities\", \"Freq\")\n",
    "\n",
    "ggplot(count_table, aes(x=count_table$entities, y=count_table$Freq)) + \n",
    "        geom_bar(stat = \"identity\", color=\"black\", fill=\"skyblue\") + \n",
    "        theme(axis.text=element_text(size=2),axis.title=element_text(size=14,face=\"bold\"),\n",
    "              axis.text.x = element_text(angle = 90, vjust = 0.5, hjust=1)) +\n",
    "        labs(x = \"Entities\", y= \"Frequencies\")"
   ]
  },
  {
   "cell_type": "markdown",
   "id": "8c752da2",
   "metadata": {},
   "source": [
    "### 3.3\n",
    "I removed international aggregates using a mask and filtered the masked dataframe for 'Year > 1970. In a for loop i summed the coal productions for each countries and, sorting the summed productions, i obtained the index of the 5 top Countries, used to find the name and productions of the top 5"
   ]
  },
  {
   "cell_type": "code",
   "execution_count": 12,
   "id": "c7905543",
   "metadata": {
    "scrolled": false
   },
   "outputs": [
    {
     "data": {
      "text/html": [
       "'The top 5 Coal producers from 1970 are:'"
      ],
      "text/latex": [
       "'The top 5 Coal producers from 1970 are:'"
      ],
      "text/markdown": [
       "'The top 5 Coal producers from 1970 are:'"
      ],
      "text/plain": [
       "[1] \"The top 5 Coal producers from 1970 are:\""
      ]
     },
     "metadata": {},
     "output_type": "display_data"
    },
    {
     "data": {
      "text/html": [
       "<ol class=list-inline>\n",
       "\t<li>China</li>\n",
       "\t<li>United States</li>\n",
       "\t<li>Russia</li>\n",
       "\t<li>Australia</li>\n",
       "\t<li>India</li>\n",
       "</ol>\n",
       "\n",
       "<details>\n",
       "\t<summary style=display:list-item;cursor:pointer>\n",
       "\t\t<strong>Levels</strong>:\n",
       "\t</summary>\n",
       "\t<ol class=list-inline>\n",
       "\t\t<li>'Afghanistan'</li>\n",
       "\t\t<li>'Africa'</li>\n",
       "\t\t<li>'Albania'</li>\n",
       "\t\t<li>'Algeria'</li>\n",
       "\t\t<li>'American Samoa'</li>\n",
       "\t\t<li>'Antigua and Barbuda'</li>\n",
       "\t\t<li>'Argentina'</li>\n",
       "\t\t<li>'Armenia'</li>\n",
       "\t\t<li>'Aruba'</li>\n",
       "\t\t<li>'Asia and Oceania'</li>\n",
       "\t\t<li>'Asia Pacific'</li>\n",
       "\t\t<li>'Australia'</li>\n",
       "\t\t<li>'Austria'</li>\n",
       "\t\t<li>'Bahamas'</li>\n",
       "\t\t<li>'Barbados'</li>\n",
       "\t\t<li>'Belgium'</li>\n",
       "\t\t<li>'Belize'</li>\n",
       "\t\t<li>'Benin'</li>\n",
       "\t\t<li>'Bermuda'</li>\n",
       "\t\t<li>'Bhutan'</li>\n",
       "\t\t<li>'Bosnia and Herzegovina'</li>\n",
       "\t\t<li>'Botswana'</li>\n",
       "\t\t<li>'Brazil'</li>\n",
       "\t\t<li>'British Virgin Islands'</li>\n",
       "\t\t<li>'Bulgaria'</li>\n",
       "\t\t<li>'Burkina Faso'</li>\n",
       "\t\t<li>'Burma'</li>\n",
       "\t\t<li>'Burundi'</li>\n",
       "\t\t<li>'Cambodia'</li>\n",
       "\t\t<li>'Cameroon'</li>\n",
       "\t\t<li>'Canada'</li>\n",
       "\t\t<li>'Cape Verde'</li>\n",
       "\t\t<li>'Cayman Islands'</li>\n",
       "\t\t<li>'Central African Republic'</li>\n",
       "\t\t<li>'Central and South America'</li>\n",
       "\t\t<li>'Chile'</li>\n",
       "\t\t<li>'China'</li>\n",
       "\t\t<li>'CIS'</li>\n",
       "\t\t<li>'Colombia'</li>\n",
       "\t\t<li>'Comoros'</li>\n",
       "\t\t<li>'Cook Islands'</li>\n",
       "\t\t<li>'Costa Rica'</li>\n",
       "\t\t<li>'Cuba'</li>\n",
       "\t\t<li>'Czechia'</li>\n",
       "\t\t<li>'Czechoslovakia'</li>\n",
       "\t\t<li>'Democratic Republic of Congo'</li>\n",
       "\t\t<li>'Denmark'</li>\n",
       "\t\t<li>'Djibouti'</li>\n",
       "\t\t<li>'Dominica'</li>\n",
       "\t\t<li>'Dominican Republic'</li>\n",
       "\t\t<li>'El Salvador'</li>\n",
       "\t\t<li>'Equatorial Guinea'</li>\n",
       "\t\t<li>'Eritrea'</li>\n",
       "\t\t<li>'Eswatini'</li>\n",
       "\t\t<li>'Ethiopia'</li>\n",
       "\t\t<li>'EU-28'</li>\n",
       "\t\t<li>'Eurasia'</li>\n",
       "\t\t<li>'Europe'</li>\n",
       "\t\t<li>'Europe (other)'</li>\n",
       "\t\t<li>'Faeroe Islands'</li>\n",
       "\t\t<li>'Falkland Islands'</li>\n",
       "\t\t<li>'Fiji'</li>\n",
       "\t\t<li>'France'</li>\n",
       "\t\t<li>'French Guiana'</li>\n",
       "\t\t<li>'French Polynesia'</li>\n",
       "\t\t<li>'Gambia'</li>\n",
       "\t\t<li>'Georgia'</li>\n",
       "\t\t<li>'Germany'</li>\n",
       "\t\t<li>'Ghana'</li>\n",
       "\t\t<li>'Gibraltar'</li>\n",
       "\t\t<li>'Greece'</li>\n",
       "\t\t<li>'Greenland'</li>\n",
       "\t\t<li>'Grenada'</li>\n",
       "\t\t<li>'Guadeloupe'</li>\n",
       "\t\t<li>'Guam'</li>\n",
       "\t\t<li>'Guatemala'</li>\n",
       "\t\t<li>'Guinea'</li>\n",
       "\t\t<li>'Guinea-Bissau'</li>\n",
       "\t\t<li>'Guyana'</li>\n",
       "\t\t<li>'Haiti'</li>\n",
       "\t\t<li>'Honduras'</li>\n",
       "\t\t<li>'Hungary'</li>\n",
       "\t\t<li>'Inde'</li>\n",
       "\t\t<li>'India'</li>\n",
       "\t\t<li>'Indonesia'</li>\n",
       "\t\t<li>'Iran'</li>\n",
       "\t\t<li>'Ireland'</li>\n",
       "\t\t<li>'Italy'</li>\n",
       "\t\t<li>'Ivory Coast'</li>\n",
       "\t\t<li>'Jamaica'</li>\n",
       "\t\t<li>'Japan'</li>\n",
       "\t\t<li>'Jordan'</li>\n",
       "\t\t<li>'Kazakhstan'</li>\n",
       "\t\t<li>'Kenya'</li>\n",
       "\t\t<li>'Kiribati'</li>\n",
       "\t\t<li>'Kosovo'</li>\n",
       "\t\t<li>'Kyrgyzstan'</li>\n",
       "\t\t<li>'Laos'</li>\n",
       "\t\t<li>'Lebanon'</li>\n",
       "\t\t<li>'Lesotho'</li>\n",
       "\t\t<li>'Liberia'</li>\n",
       "\t\t<li>'Macau'</li>\n",
       "\t\t<li>'Madagascar'</li>\n",
       "\t\t<li>'Malawi'</li>\n",
       "\t\t<li>'Malaysia'</li>\n",
       "\t\t<li>'Maldives'</li>\n",
       "\t\t<li>'Mali'</li>\n",
       "\t\t<li>'Malta'</li>\n",
       "\t\t<li>'Martinique'</li>\n",
       "\t\t<li>'Mauritania'</li>\n",
       "\t\t<li>'Mauritius'</li>\n",
       "\t\t<li>'Mexico'</li>\n",
       "\t\t<li>'Middle East'</li>\n",
       "\t\t<li>'Moldova'</li>\n",
       "\t\t<li>'Mongolia'</li>\n",
       "\t\t<li>'Montenegro'</li>\n",
       "\t\t<li>'Montserrat'</li>\n",
       "\t\t<li>'Morocco'</li>\n",
       "\t\t<li>'Mozambique'</li>\n",
       "\t\t<li>'Namibia'</li>\n",
       "\t\t<li>'Nauru'</li>\n",
       "\t\t<li>'Nepal'</li>\n",
       "\t\t<li>'Netherlands'</li>\n",
       "\t\t<li>'Netherlands Antilles'</li>\n",
       "\t\t<li>'New Caledonia'</li>\n",
       "\t\t<li>'New Zealand'</li>\n",
       "\t\t<li>'Nicaragua'</li>\n",
       "\t\t<li>'Niger'</li>\n",
       "\t\t<li>'Nigeria'</li>\n",
       "\t\t<li>'Niue'</li>\n",
       "\t\t<li>'North America'</li>\n",
       "\t\t<li>'North Korea'</li>\n",
       "\t\t<li>'Northern Mariana Islands'</li>\n",
       "\t\t<li>'Norway'</li>\n",
       "\t\t<li>'OECD'</li>\n",
       "\t\t<li>'OPEC'</li>\n",
       "\t\t<li>'Other Africa'</li>\n",
       "\t\t<li>'Other Asia &amp; Pacific'</li>\n",
       "\t\t<li>'Other CIS'</li>\n",
       "\t\t<li>'Other S. &amp; Cent. America'</li>\n",
       "\t\t<li>'Pakistan'</li>\n",
       "\t\t<li>'Palestine'</li>\n",
       "\t\t<li>'Panama'</li>\n",
       "\t\t<li>'Paraguay'</li>\n",
       "\t\t<li>'Persian Gulf'</li>\n",
       "\t\t<li>'Peru'</li>\n",
       "\t\t<li>'Philippines'</li>\n",
       "\t\t<li>'Poland'</li>\n",
       "\t\t<li>'Portugal'</li>\n",
       "\t\t<li>'Puerto Rico'</li>\n",
       "\t\t<li>'Reunion'</li>\n",
       "\t\t<li>'Romania'</li>\n",
       "\t\t<li>'Russia'</li>\n",
       "\t\t<li>'Rwanda'</li>\n",
       "\t\t<li>'Saint Helena'</li>\n",
       "\t\t<li>'Saint Kitts and Nevis'</li>\n",
       "\t\t<li>'Saint Lucia'</li>\n",
       "\t\t<li>'Saint Pierre and Miquelon'</li>\n",
       "\t\t<li>'Saint Vincent and the Grenadines'</li>\n",
       "\t\t<li>'Samoa'</li>\n",
       "\t\t<li>'Sao Tome and Principe'</li>\n",
       "\t\t<li>'Senegal'</li>\n",
       "\t\t<li>'Serbia'</li>\n",
       "\t\t<li>'Seychelles'</li>\n",
       "\t\t<li>'Sierra Leone'</li>\n",
       "\t\t<li>'Solomon Islands'</li>\n",
       "\t\t<li>'Somalia'</li>\n",
       "\t\t<li>'South &amp; Central America'</li>\n",
       "\t\t<li>'South Africa'</li>\n",
       "\t\t<li>'South Korea'</li>\n",
       "\t\t<li>'Spain'</li>\n",
       "\t\t<li>'Suriname'</li>\n",
       "\t\t<li>'Sweden'</li>\n",
       "\t\t<li>'Taiwan'</li>\n",
       "\t\t<li>'Tajikistan'</li>\n",
       "\t\t<li>'Tanzania'</li>\n",
       "\t\t<li>'Thailand'</li>\n",
       "\t\t<li>'Timor'</li>\n",
       "\t\t<li>'Togo'</li>\n",
       "\t\t<li>'Tonga'</li>\n",
       "\t\t<li>'Tunisia'</li>\n",
       "\t\t<li>'Turkey'</li>\n",
       "\t\t<li>'Turks and Caicos Islands'</li>\n",
       "\t\t<li>'Uganda'</li>\n",
       "\t\t<li>'Ukraine'</li>\n",
       "\t\t<li>'United Kingdom'</li>\n",
       "\t\t<li>'United States'</li>\n",
       "\t\t<li>'United States Pacific Islands'</li>\n",
       "\t\t<li>'United States Virgin Islands'</li>\n",
       "\t\t<li>'Uruguay'</li>\n",
       "\t\t<li>'USSR'</li>\n",
       "\t\t<li>'Uzbekistan'</li>\n",
       "\t\t<li>'Vanuatu'</li>\n",
       "\t\t<li>'Venezuela'</li>\n",
       "\t\t<li>'Vietnam'</li>\n",
       "\t\t<li>'Western Sahara'</li>\n",
       "\t\t<li>'World'</li>\n",
       "\t\t<li>'Yugoslavia'</li>\n",
       "\t\t<li>'Zambia'</li>\n",
       "\t\t<li>'Zimbabwe'</li>\n",
       "\t</ol>\n",
       "</details>"
      ],
      "text/latex": [
       "\\begin{enumerate*}\n",
       "\\item China\n",
       "\\item United States\n",
       "\\item Russia\n",
       "\\item Australia\n",
       "\\item India\n",
       "\\end{enumerate*}\n",
       "\n",
       "\\emph{Levels}: \\begin{enumerate*}\n",
       "\\item 'Afghanistan'\n",
       "\\item 'Africa'\n",
       "\\item 'Albania'\n",
       "\\item 'Algeria'\n",
       "\\item 'American Samoa'\n",
       "\\item 'Antigua and Barbuda'\n",
       "\\item 'Argentina'\n",
       "\\item 'Armenia'\n",
       "\\item 'Aruba'\n",
       "\\item 'Asia and Oceania'\n",
       "\\item 'Asia Pacific'\n",
       "\\item 'Australia'\n",
       "\\item 'Austria'\n",
       "\\item 'Bahamas'\n",
       "\\item 'Barbados'\n",
       "\\item 'Belgium'\n",
       "\\item 'Belize'\n",
       "\\item 'Benin'\n",
       "\\item 'Bermuda'\n",
       "\\item 'Bhutan'\n",
       "\\item 'Bosnia and Herzegovina'\n",
       "\\item 'Botswana'\n",
       "\\item 'Brazil'\n",
       "\\item 'British Virgin Islands'\n",
       "\\item 'Bulgaria'\n",
       "\\item 'Burkina Faso'\n",
       "\\item 'Burma'\n",
       "\\item 'Burundi'\n",
       "\\item 'Cambodia'\n",
       "\\item 'Cameroon'\n",
       "\\item 'Canada'\n",
       "\\item 'Cape Verde'\n",
       "\\item 'Cayman Islands'\n",
       "\\item 'Central African Republic'\n",
       "\\item 'Central and South America'\n",
       "\\item 'Chile'\n",
       "\\item 'China'\n",
       "\\item 'CIS'\n",
       "\\item 'Colombia'\n",
       "\\item 'Comoros'\n",
       "\\item 'Cook Islands'\n",
       "\\item 'Costa Rica'\n",
       "\\item 'Cuba'\n",
       "\\item 'Czechia'\n",
       "\\item 'Czechoslovakia'\n",
       "\\item 'Democratic Republic of Congo'\n",
       "\\item 'Denmark'\n",
       "\\item 'Djibouti'\n",
       "\\item 'Dominica'\n",
       "\\item 'Dominican Republic'\n",
       "\\item 'El Salvador'\n",
       "\\item 'Equatorial Guinea'\n",
       "\\item 'Eritrea'\n",
       "\\item 'Eswatini'\n",
       "\\item 'Ethiopia'\n",
       "\\item 'EU-28'\n",
       "\\item 'Eurasia'\n",
       "\\item 'Europe'\n",
       "\\item 'Europe (other)'\n",
       "\\item 'Faeroe Islands'\n",
       "\\item 'Falkland Islands'\n",
       "\\item 'Fiji'\n",
       "\\item 'France'\n",
       "\\item 'French Guiana'\n",
       "\\item 'French Polynesia'\n",
       "\\item 'Gambia'\n",
       "\\item 'Georgia'\n",
       "\\item 'Germany'\n",
       "\\item 'Ghana'\n",
       "\\item 'Gibraltar'\n",
       "\\item 'Greece'\n",
       "\\item 'Greenland'\n",
       "\\item 'Grenada'\n",
       "\\item 'Guadeloupe'\n",
       "\\item 'Guam'\n",
       "\\item 'Guatemala'\n",
       "\\item 'Guinea'\n",
       "\\item 'Guinea-Bissau'\n",
       "\\item 'Guyana'\n",
       "\\item 'Haiti'\n",
       "\\item 'Honduras'\n",
       "\\item 'Hungary'\n",
       "\\item 'Inde'\n",
       "\\item 'India'\n",
       "\\item 'Indonesia'\n",
       "\\item 'Iran'\n",
       "\\item 'Ireland'\n",
       "\\item 'Italy'\n",
       "\\item 'Ivory Coast'\n",
       "\\item 'Jamaica'\n",
       "\\item 'Japan'\n",
       "\\item 'Jordan'\n",
       "\\item 'Kazakhstan'\n",
       "\\item 'Kenya'\n",
       "\\item 'Kiribati'\n",
       "\\item 'Kosovo'\n",
       "\\item 'Kyrgyzstan'\n",
       "\\item 'Laos'\n",
       "\\item 'Lebanon'\n",
       "\\item 'Lesotho'\n",
       "\\item 'Liberia'\n",
       "\\item 'Macau'\n",
       "\\item 'Madagascar'\n",
       "\\item 'Malawi'\n",
       "\\item 'Malaysia'\n",
       "\\item 'Maldives'\n",
       "\\item 'Mali'\n",
       "\\item 'Malta'\n",
       "\\item 'Martinique'\n",
       "\\item 'Mauritania'\n",
       "\\item 'Mauritius'\n",
       "\\item 'Mexico'\n",
       "\\item 'Middle East'\n",
       "\\item 'Moldova'\n",
       "\\item 'Mongolia'\n",
       "\\item 'Montenegro'\n",
       "\\item 'Montserrat'\n",
       "\\item 'Morocco'\n",
       "\\item 'Mozambique'\n",
       "\\item 'Namibia'\n",
       "\\item 'Nauru'\n",
       "\\item 'Nepal'\n",
       "\\item 'Netherlands'\n",
       "\\item 'Netherlands Antilles'\n",
       "\\item 'New Caledonia'\n",
       "\\item 'New Zealand'\n",
       "\\item 'Nicaragua'\n",
       "\\item 'Niger'\n",
       "\\item 'Nigeria'\n",
       "\\item 'Niue'\n",
       "\\item 'North America'\n",
       "\\item 'North Korea'\n",
       "\\item 'Northern Mariana Islands'\n",
       "\\item 'Norway'\n",
       "\\item 'OECD'\n",
       "\\item 'OPEC'\n",
       "\\item 'Other Africa'\n",
       "\\item 'Other Asia \\& Pacific'\n",
       "\\item 'Other CIS'\n",
       "\\item 'Other S. \\& Cent. America'\n",
       "\\item 'Pakistan'\n",
       "\\item 'Palestine'\n",
       "\\item 'Panama'\n",
       "\\item 'Paraguay'\n",
       "\\item 'Persian Gulf'\n",
       "\\item 'Peru'\n",
       "\\item 'Philippines'\n",
       "\\item 'Poland'\n",
       "\\item 'Portugal'\n",
       "\\item 'Puerto Rico'\n",
       "\\item 'Reunion'\n",
       "\\item 'Romania'\n",
       "\\item 'Russia'\n",
       "\\item 'Rwanda'\n",
       "\\item 'Saint Helena'\n",
       "\\item 'Saint Kitts and Nevis'\n",
       "\\item 'Saint Lucia'\n",
       "\\item 'Saint Pierre and Miquelon'\n",
       "\\item 'Saint Vincent and the Grenadines'\n",
       "\\item 'Samoa'\n",
       "\\item 'Sao Tome and Principe'\n",
       "\\item 'Senegal'\n",
       "\\item 'Serbia'\n",
       "\\item 'Seychelles'\n",
       "\\item 'Sierra Leone'\n",
       "\\item 'Solomon Islands'\n",
       "\\item 'Somalia'\n",
       "\\item 'South \\& Central America'\n",
       "\\item 'South Africa'\n",
       "\\item 'South Korea'\n",
       "\\item 'Spain'\n",
       "\\item 'Suriname'\n",
       "\\item 'Sweden'\n",
       "\\item 'Taiwan'\n",
       "\\item 'Tajikistan'\n",
       "\\item 'Tanzania'\n",
       "\\item 'Thailand'\n",
       "\\item 'Timor'\n",
       "\\item 'Togo'\n",
       "\\item 'Tonga'\n",
       "\\item 'Tunisia'\n",
       "\\item 'Turkey'\n",
       "\\item 'Turks and Caicos Islands'\n",
       "\\item 'Uganda'\n",
       "\\item 'Ukraine'\n",
       "\\item 'United Kingdom'\n",
       "\\item 'United States'\n",
       "\\item 'United States Pacific Islands'\n",
       "\\item 'United States Virgin Islands'\n",
       "\\item 'Uruguay'\n",
       "\\item 'USSR'\n",
       "\\item 'Uzbekistan'\n",
       "\\item 'Vanuatu'\n",
       "\\item 'Venezuela'\n",
       "\\item 'Vietnam'\n",
       "\\item 'Western Sahara'\n",
       "\\item 'World'\n",
       "\\item 'Yugoslavia'\n",
       "\\item 'Zambia'\n",
       "\\item 'Zimbabwe'\n",
       "\\end{enumerate*}\n"
      ],
      "text/markdown": [
       "1. China\n",
       "2. United States\n",
       "3. Russia\n",
       "4. Australia\n",
       "5. India\n",
       "\n",
       "\n",
       "\n",
       "**Levels**: 1. 'Afghanistan'\n",
       "2. 'Africa'\n",
       "3. 'Albania'\n",
       "4. 'Algeria'\n",
       "5. 'American Samoa'\n",
       "6. 'Antigua and Barbuda'\n",
       "7. 'Argentina'\n",
       "8. 'Armenia'\n",
       "9. 'Aruba'\n",
       "10. 'Asia and Oceania'\n",
       "11. 'Asia Pacific'\n",
       "12. 'Australia'\n",
       "13. 'Austria'\n",
       "14. 'Bahamas'\n",
       "15. 'Barbados'\n",
       "16. 'Belgium'\n",
       "17. 'Belize'\n",
       "18. 'Benin'\n",
       "19. 'Bermuda'\n",
       "20. 'Bhutan'\n",
       "21. 'Bosnia and Herzegovina'\n",
       "22. 'Botswana'\n",
       "23. 'Brazil'\n",
       "24. 'British Virgin Islands'\n",
       "25. 'Bulgaria'\n",
       "26. 'Burkina Faso'\n",
       "27. 'Burma'\n",
       "28. 'Burundi'\n",
       "29. 'Cambodia'\n",
       "30. 'Cameroon'\n",
       "31. 'Canada'\n",
       "32. 'Cape Verde'\n",
       "33. 'Cayman Islands'\n",
       "34. 'Central African Republic'\n",
       "35. 'Central and South America'\n",
       "36. 'Chile'\n",
       "37. 'China'\n",
       "38. 'CIS'\n",
       "39. 'Colombia'\n",
       "40. 'Comoros'\n",
       "41. 'Cook Islands'\n",
       "42. 'Costa Rica'\n",
       "43. 'Cuba'\n",
       "44. 'Czechia'\n",
       "45. 'Czechoslovakia'\n",
       "46. 'Democratic Republic of Congo'\n",
       "47. 'Denmark'\n",
       "48. 'Djibouti'\n",
       "49. 'Dominica'\n",
       "50. 'Dominican Republic'\n",
       "51. 'El Salvador'\n",
       "52. 'Equatorial Guinea'\n",
       "53. 'Eritrea'\n",
       "54. 'Eswatini'\n",
       "55. 'Ethiopia'\n",
       "56. 'EU-28'\n",
       "57. 'Eurasia'\n",
       "58. 'Europe'\n",
       "59. 'Europe (other)'\n",
       "60. 'Faeroe Islands'\n",
       "61. 'Falkland Islands'\n",
       "62. 'Fiji'\n",
       "63. 'France'\n",
       "64. 'French Guiana'\n",
       "65. 'French Polynesia'\n",
       "66. 'Gambia'\n",
       "67. 'Georgia'\n",
       "68. 'Germany'\n",
       "69. 'Ghana'\n",
       "70. 'Gibraltar'\n",
       "71. 'Greece'\n",
       "72. 'Greenland'\n",
       "73. 'Grenada'\n",
       "74. 'Guadeloupe'\n",
       "75. 'Guam'\n",
       "76. 'Guatemala'\n",
       "77. 'Guinea'\n",
       "78. 'Guinea-Bissau'\n",
       "79. 'Guyana'\n",
       "80. 'Haiti'\n",
       "81. 'Honduras'\n",
       "82. 'Hungary'\n",
       "83. 'Inde'\n",
       "84. 'India'\n",
       "85. 'Indonesia'\n",
       "86. 'Iran'\n",
       "87. 'Ireland'\n",
       "88. 'Italy'\n",
       "89. 'Ivory Coast'\n",
       "90. 'Jamaica'\n",
       "91. 'Japan'\n",
       "92. 'Jordan'\n",
       "93. 'Kazakhstan'\n",
       "94. 'Kenya'\n",
       "95. 'Kiribati'\n",
       "96. 'Kosovo'\n",
       "97. 'Kyrgyzstan'\n",
       "98. 'Laos'\n",
       "99. 'Lebanon'\n",
       "100. 'Lesotho'\n",
       "101. 'Liberia'\n",
       "102. 'Macau'\n",
       "103. 'Madagascar'\n",
       "104. 'Malawi'\n",
       "105. 'Malaysia'\n",
       "106. 'Maldives'\n",
       "107. 'Mali'\n",
       "108. 'Malta'\n",
       "109. 'Martinique'\n",
       "110. 'Mauritania'\n",
       "111. 'Mauritius'\n",
       "112. 'Mexico'\n",
       "113. 'Middle East'\n",
       "114. 'Moldova'\n",
       "115. 'Mongolia'\n",
       "116. 'Montenegro'\n",
       "117. 'Montserrat'\n",
       "118. 'Morocco'\n",
       "119. 'Mozambique'\n",
       "120. 'Namibia'\n",
       "121. 'Nauru'\n",
       "122. 'Nepal'\n",
       "123. 'Netherlands'\n",
       "124. 'Netherlands Antilles'\n",
       "125. 'New Caledonia'\n",
       "126. 'New Zealand'\n",
       "127. 'Nicaragua'\n",
       "128. 'Niger'\n",
       "129. 'Nigeria'\n",
       "130. 'Niue'\n",
       "131. 'North America'\n",
       "132. 'North Korea'\n",
       "133. 'Northern Mariana Islands'\n",
       "134. 'Norway'\n",
       "135. 'OECD'\n",
       "136. 'OPEC'\n",
       "137. 'Other Africa'\n",
       "138. 'Other Asia &amp; Pacific'\n",
       "139. 'Other CIS'\n",
       "140. 'Other S. &amp; Cent. America'\n",
       "141. 'Pakistan'\n",
       "142. 'Palestine'\n",
       "143. 'Panama'\n",
       "144. 'Paraguay'\n",
       "145. 'Persian Gulf'\n",
       "146. 'Peru'\n",
       "147. 'Philippines'\n",
       "148. 'Poland'\n",
       "149. 'Portugal'\n",
       "150. 'Puerto Rico'\n",
       "151. 'Reunion'\n",
       "152. 'Romania'\n",
       "153. 'Russia'\n",
       "154. 'Rwanda'\n",
       "155. 'Saint Helena'\n",
       "156. 'Saint Kitts and Nevis'\n",
       "157. 'Saint Lucia'\n",
       "158. 'Saint Pierre and Miquelon'\n",
       "159. 'Saint Vincent and the Grenadines'\n",
       "160. 'Samoa'\n",
       "161. 'Sao Tome and Principe'\n",
       "162. 'Senegal'\n",
       "163. 'Serbia'\n",
       "164. 'Seychelles'\n",
       "165. 'Sierra Leone'\n",
       "166. 'Solomon Islands'\n",
       "167. 'Somalia'\n",
       "168. 'South &amp; Central America'\n",
       "169. 'South Africa'\n",
       "170. 'South Korea'\n",
       "171. 'Spain'\n",
       "172. 'Suriname'\n",
       "173. 'Sweden'\n",
       "174. 'Taiwan'\n",
       "175. 'Tajikistan'\n",
       "176. 'Tanzania'\n",
       "177. 'Thailand'\n",
       "178. 'Timor'\n",
       "179. 'Togo'\n",
       "180. 'Tonga'\n",
       "181. 'Tunisia'\n",
       "182. 'Turkey'\n",
       "183. 'Turks and Caicos Islands'\n",
       "184. 'Uganda'\n",
       "185. 'Ukraine'\n",
       "186. 'United Kingdom'\n",
       "187. 'United States'\n",
       "188. 'United States Pacific Islands'\n",
       "189. 'United States Virgin Islands'\n",
       "190. 'Uruguay'\n",
       "191. 'USSR'\n",
       "192. 'Uzbekistan'\n",
       "193. 'Vanuatu'\n",
       "194. 'Venezuela'\n",
       "195. 'Vietnam'\n",
       "196. 'Western Sahara'\n",
       "197. 'World'\n",
       "198. 'Yugoslavia'\n",
       "199. 'Zambia'\n",
       "200. 'Zimbabwe'\n",
       "\n",
       "\n"
      ],
      "text/plain": [
       "[1] China         United States Russia        Australia     India        \n",
       "200 Levels: Afghanistan Africa Albania Algeria ... Zimbabwe"
      ]
     },
     "metadata": {},
     "output_type": "display_data"
    },
    {
     "data": {
      "text/html": [
       "'respectively with (TWh):'"
      ],
      "text/latex": [
       "'respectively with (TWh):'"
      ],
      "text/markdown": [
       "'respectively with (TWh):'"
      ],
      "text/plain": [
       "[1] \"respectively with (TWh):\""
      ]
     },
     "metadata": {},
     "output_type": "display_data"
    },
    {
     "data": {
      "text/html": [
       "<ol class=list-inline>\n",
       "\t<li>459564.647</li>\n",
       "\t<li>226068.837</li>\n",
       "\t<li>101908.488</li>\n",
       "\t<li>83077.065</li>\n",
       "\t<li>77043.453</li>\n",
       "</ol>\n"
      ],
      "text/latex": [
       "\\begin{enumerate*}\n",
       "\\item 459564.647\n",
       "\\item 226068.837\n",
       "\\item 101908.488\n",
       "\\item 83077.065\n",
       "\\item 77043.453\n",
       "\\end{enumerate*}\n"
      ],
      "text/markdown": [
       "1. 459564.647\n",
       "2. 226068.837\n",
       "3. 101908.488\n",
       "4. 83077.065\n",
       "5. 77043.453\n",
       "\n",
       "\n"
      ],
      "text/plain": [
       "[1] 459564.65 226068.84 101908.49  83077.07  77043.45"
      ]
     },
     "metadata": {},
     "output_type": "display_data"
    }
   ],
   "source": [
    "# Removing the non-countries (i.e. 'world', 'Europe', 'Africa'...)\n",
    "country_mask <- db$Entity!=\"World\" & db$Entity!=\"Europe\" & db$Entity!=\"Asia Pacific\" &\n",
    "                db$Entity!=\"Asia and Oceania\" & db$Entity!=\"North America\" & db$Entity!=\"CIS\" &\n",
    "                db$Entity!=\"Eurasia\" & db$Entity!=\"Africa\" & db$Entity!=\"South Africa\" &\n",
    "                db$Entity!=\"EU-28\" & db$Entity!=\"South & Central America\" & db$Entity!=\"Other Asia & Pacific\" &\n",
    "                db$Entity!=\"Europe (other)\" & db$Entity!=\"OECD\"\n",
    "# country_mask\n",
    "total_production <- c(1:N)\n",
    "db_masked <- db[country_mask,]\n",
    "db_reduced <- db_masked[db_masked$Year>=1970,]\n",
    "for (i in 1:N){\n",
    "    \n",
    "    s <- sum(db_reduced[db_reduced$Entity==unique_Countries[i],]$Coal_production)\n",
    "    total_production[i] <- s\n",
    "}\n",
    "production_index <- order(total_production, decreasing=TRUE)[1:5]\n",
    "top5_total_production <- total_production[production_index]\n",
    "top5_producers <- unique_Countries[production_index]\n",
    "\n",
    "sprintf(\"The top 5 Coal producers from 1970 are:\")\n",
    "top5_producers\n",
    "sprintf(\"respectively with (TWh):\")\n",
    "top5_total_production"
   ]
  },
  {
   "cell_type": "markdown",
   "id": "94a563b1",
   "metadata": {},
   "source": [
    "### 3.4"
   ]
  },
  {
   "cell_type": "code",
   "execution_count": 13,
   "id": "655aa2c4",
   "metadata": {
    "scrolled": false
   },
   "outputs": [
    {
     "data": {
      "image/png": "[encoded data removed]",
      "text/plain": [
       "plot without title"
      ]
     },
     "metadata": {},
     "output_type": "display_data"
    }
   ],
   "source": [
    "year_vector <- 1970:2016\n",
    "\n",
    "top1 <- db_reduced[db_reduced$Entity==top5_producers[1],]\n",
    "top2 <- db_reduced[db_reduced$Entity==top5_producers[2],]\n",
    "top3 <- db_reduced[db_reduced$Entity==top5_producers[3],]\n",
    "top4 <- db_reduced[db_reduced$Entity==top5_producers[4],]\n",
    "top5 <- db_reduced[db_reduced$Entity==top5_producers[5],]\n",
    "ggplot() + geom_line(data=top1, aes(x=Year, y=Coal_production), color=\"green\") + \n",
    "            geom_point(data=top1, aes(x=Year, y=Coal_production), color=\"green\") +\n",
    "            geom_line(data=top2, aes(x=Year, y=Coal_production), color=\"red\") + \n",
    "            geom_point(data=top2, aes(x=Year, y=Coal_production), color=\"red\") +\n",
    "            geom_line(data=top3, aes(x=Year, y=Coal_production), color=\"lightblue\") + \n",
    "            geom_point(data=top3, aes(x=Year, y=Coal_production), color=\"lightblue\") +\n",
    "            geom_line(data=top4, aes(x=Year, y=Coal_production), color=\"black\") + \n",
    "            geom_point(data=top4, aes(x=Year, y=Coal_production), color=\"black\") +\n",
    "            geom_line(data=top5, aes(x=Year, y=Coal_production), color=\"purple\") + \n",
    "            geom_point(data=top5, aes(x=Year, y=Coal_production), color=\"purple\") +\n",
    "            labs(x=\"Years\", y=\"Coal Productions (TWh)\", title=\"Coal production vs Time\")\n"
   ]
  },
  {
   "cell_type": "markdown",
   "id": "67ad16d6",
   "metadata": {},
   "source": [
    "### 3.5\n",
    "i used the cumsum() function to find for each year (selecting from the original dataframe the rows relative to 'World') the cumulative production"
   ]
  },
  {
   "cell_type": "code",
   "execution_count": 14,
   "id": "35302e5e",
   "metadata": {},
   "outputs": [
    {
     "data": {
      "image/png": "[encoded data removed]",
      "text/plain": [
       "plot without title"
      ]
     },
     "metadata": {},
     "output_type": "display_data"
    }
   ],
   "source": [
    "ggplot() + geom_line(data=db[db$Entity=='World',], aes(x=Year, y=cumsum(Coal_production)), color=\"green\") + \n",
    "            geom_point(data=db[db$Entity=='World',], aes(x=Year, y=cumsum(Coal_production)), color=\"green\") +\n",
    "            labs(x=\"Years\", y=\"Coal Productions (TWh)\", title=\"Cumulative Sum World’s Coal Production vs Time\")"
   ]
  },
  {
   "cell_type": "markdown",
   "id": "c342a50e",
   "metadata": {},
   "source": [
    "## Exercise 4 - Covid19 Vaccine data"
   ]
  },
  {
   "cell_type": "markdown",
   "id": "329a418a",
   "metadata": {},
   "source": [
    "### 4.1"
   ]
  },
  {
   "cell_type": "code",
   "execution_count": 15,
   "id": "4ba816d7",
   "metadata": {},
   "outputs": [],
   "source": [
    "df_c19 <- read.csv(\"vaccinations-by-manufacturer.csv\")\n",
    "df_c19_fltr <- df_c19[df_c19$location=='Italy',]"
   ]
  },
  {
   "cell_type": "markdown",
   "id": "7dabafbc",
   "metadata": {},
   "source": [
    "### 4.2"
   ]
  },
  {
   "cell_type": "code",
   "execution_count": 16,
   "id": "e339a17e",
   "metadata": {},
   "outputs": [
    {
     "name": "stdout",
     "output_type": "stream",
     "text": [
      "Vaccine manufacturers in the dataframe are: "
     ]
    },
    {
     "data": {
      "text/html": [
       "<ol class=list-inline>\n",
       "\t<li>Moderna</li>\n",
       "\t<li>Pfizer/BioNTech</li>\n",
       "\t<li>Johnson&amp;Johnson</li>\n",
       "\t<li>Oxford/AstraZeneca</li>\n",
       "\t<li>Novavax</li>\n",
       "</ol>\n",
       "\n",
       "<details>\n",
       "\t<summary style=display:list-item;cursor:pointer>\n",
       "\t\t<strong>Levels</strong>:\n",
       "\t</summary>\n",
       "\t<ol class=list-inline>\n",
       "\t\t<li>'CanSino'</li>\n",
       "\t\t<li>'Covaxin'</li>\n",
       "\t\t<li>'Johnson&amp;Johnson'</li>\n",
       "\t\t<li>'Moderna'</li>\n",
       "\t\t<li>'Novavax'</li>\n",
       "\t\t<li>'Oxford/AstraZeneca'</li>\n",
       "\t\t<li>'Pfizer/BioNTech'</li>\n",
       "\t\t<li>'Sinopharm/Beijing'</li>\n",
       "\t\t<li>'Sinovac'</li>\n",
       "\t\t<li>'Sputnik V'</li>\n",
       "\t</ol>\n",
       "</details>"
      ],
      "text/latex": [
       "\\begin{enumerate*}\n",
       "\\item Moderna\n",
       "\\item Pfizer/BioNTech\n",
       "\\item Johnson\\&Johnson\n",
       "\\item Oxford/AstraZeneca\n",
       "\\item Novavax\n",
       "\\end{enumerate*}\n",
       "\n",
       "\\emph{Levels}: \\begin{enumerate*}\n",
       "\\item 'CanSino'\n",
       "\\item 'Covaxin'\n",
       "\\item 'Johnson\\&Johnson'\n",
       "\\item 'Moderna'\n",
       "\\item 'Novavax'\n",
       "\\item 'Oxford/AstraZeneca'\n",
       "\\item 'Pfizer/BioNTech'\n",
       "\\item 'Sinopharm/Beijing'\n",
       "\\item 'Sinovac'\n",
       "\\item 'Sputnik V'\n",
       "\\end{enumerate*}\n"
      ],
      "text/markdown": [
       "1. Moderna\n",
       "2. Pfizer/BioNTech\n",
       "3. Johnson&amp;Johnson\n",
       "4. Oxford/AstraZeneca\n",
       "5. Novavax\n",
       "\n",
       "\n",
       "\n",
       "**Levels**: 1. 'CanSino'\n",
       "2. 'Covaxin'\n",
       "3. 'Johnson&amp;Johnson'\n",
       "4. 'Moderna'\n",
       "5. 'Novavax'\n",
       "6. 'Oxford/AstraZeneca'\n",
       "7. 'Pfizer/BioNTech'\n",
       "8. 'Sinopharm/Beijing'\n",
       "9. 'Sinovac'\n",
       "10. 'Sputnik V'\n",
       "\n",
       "\n"
      ],
      "text/plain": [
       "[1] Moderna            Pfizer/BioNTech    Johnson&Johnson    Oxford/AstraZeneca\n",
       "[5] Novavax           \n",
       "10 Levels: CanSino Covaxin Johnson&Johnson Moderna ... Sputnik V"
      ]
     },
     "metadata": {},
     "output_type": "display_data"
    },
    {
     "data": {
      "image/png": "[encoded data removed]",
      "text/plain": [
       "Plot with title \"Total Vaccinatioins vs Time\""
      ]
     },
     "metadata": {},
     "output_type": "display_data"
    }
   ],
   "source": [
    "manufacturers <- unique(df_c19_fltr$vaccine)\n",
    "cat(\"Vaccine manufacturers in the dataframe are: \")\n",
    "manufacturers\n",
    "n_manuf <- length(manufacturers)\n",
    "col <- c(\"green\", \"red\", \"blue\", \"yellow\", \"brown\")\n",
    "\n",
    "dataframe <- df_c19_fltr[df_c19_fltr$vaccine==manufacturers[1],]\n",
    "plot(as.Date(dataframe$date), dataframe$total_vaccinations, type=\"l\", col=col[1],\n",
    "     ylim=c(0,max(df_c19_fltr$total_vaccinations)), \n",
    "     main=\"Total Vaccinatioins vs Time\", xlab=\"Date\", ylab=\"Total Vaccinations\")\n",
    "for (i in 2:n_manuf){\n",
    "    dataframe <- df_c19_fltr[df_c19_fltr$vaccine==manufacturers[i],]\n",
    "    lines(as.Date(dataframe$date), dataframe$total_vaccinations, col = col[i])\n",
    "}"
   ]
  },
  {
   "cell_type": "markdown",
   "id": "2e515556",
   "metadata": {},
   "source": [
    "### 4.3"
   ]
  },
  {
   "cell_type": "code",
   "execution_count": 17,
   "id": "e3cb00f2",
   "metadata": {
    "scrolled": false
   },
   "outputs": [
    {
     "data": {
      "image/png": "[encoded data removed]",
      "text/plain": [
       "Plot with title \"Shot per day\""
      ]
     },
     "metadata": {},
     "output_type": "display_data"
    }
   ],
   "source": [
    "dates <- unique(df_c19_fltr$date)\n",
    "vacc_x_day <- 1:length(dates)\n",
    "cum_vacc <- cumsum(vacc_x_day)\n",
    "for (i in 1:length(dates)){\n",
    "    dff <- df_c19_fltr[df_c19_fltr$date==dates[i],]\n",
    "    s <- sum(dff$total_vaccinations)\n",
    "    if (i==1){\n",
    "        vacc_x_day[i] <- s\n",
    "        }\n",
    "    if (i>=2){\n",
    "        vacc_x_day[i] <- s - cum_vacc[i-1]\n",
    "    }\n",
    "}\n",
    "plot(as.Date(dates), vacc_x_day, type=\"l\", col=\"red\",\n",
    "     main=\"Shot per day\", xlab=\"Date\", ylab=\"Vaccine Shots\")"
   ]
  },
  {
   "cell_type": "markdown",
   "id": "55ab94aa",
   "metadata": {},
   "source": [
    "### 4.4\n",
    "I have summarized the previous code in a function to be able to repeat the procedure with other countries"
   ]
  },
  {
   "cell_type": "code",
   "execution_count": 18,
   "id": "1c6b97be",
   "metadata": {},
   "outputs": [],
   "source": [
    "Nested_function <- function(country) {\n",
    "    print(\"Country selected:\")\n",
    "    print(country)\n",
    "    df_c19 <- read.csv(\"vaccinations-by-manufacturer.csv\")\n",
    "    df_c19_fltr <- df_c19[df_c19$location==country,]\n",
    "    #2\n",
    "    manufacturers <- unique(df_c19_fltr$vaccine)\n",
    "    cat(\"Vaccine manufacturers in the dataframe are: \")\n",
    "    print(manufacturers)\n",
    "    n_manuf <- length(manufacturers)\n",
    "    col <- c(\"green\", \"red\", \"blue\", \"yellow\", \"brown\")\n",
    "\n",
    "    # ggplot(dataframe, aes(x=as.Date(date), y=total_vaccinations)) + geom_line(color=\"green\")\n",
    "    dataframe <- df_c19_fltr[df_c19_fltr$vaccine==manufacturers[1],]\n",
    "    plot(as.Date(dataframe$date), dataframe$total_vaccinations, type=\"l\", col=col[1],\n",
    "         ylim=c(0,max(df_c19_fltr$total_vaccinations)), \n",
    "         main=\"Total Vaccinatioins vs Time\", xlab=\"Date\", ylab=\"Total Vaccinations\")\n",
    "    for (i in 2:n_manuf){\n",
    "        dataframe <- df_c19_fltr[df_c19_fltr$vaccine==manufacturers[i],]\n",
    "        lines(as.Date(dataframe$date), dataframe$total_vaccinations, col = col[i])\n",
    "    }\n",
    "    #3\n",
    "    dates <- unique(df_c19_fltr$date)\n",
    "    vacc_x_day <- 1:length(dates)\n",
    "    cum_vacc <- cumsum(vacc_x_day)\n",
    "    for (i in 1:length(dates)){\n",
    "        dff <- df_c19_fltr[df_c19_fltr$date==dates[i],]\n",
    "        s <- sum(dff$total_vaccinations)\n",
    "        if (i==1){\n",
    "            vacc_x_day[i] <- s\n",
    "            }\n",
    "        if (i>=2){\n",
    "            vacc_x_day[i] <- s - cum_vacc[i-1]\n",
    "        }\n",
    "    }\n",
    "    plot(as.Date(dates), vacc_x_day, type=\"l\", col=\"red\",\n",
    "         main=\"Shot per day\", xlab=\"Date\", ylab=\"Vaccine Shots\")\n",
    "}"
   ]
  },
  {
   "cell_type": "code",
   "execution_count": 19,
   "id": "85ccdd78",
   "metadata": {
    "scrolled": false
   },
   "outputs": [
    {
     "name": "stdout",
     "output_type": "stream",
     "text": [
      "[1] \"Country selected:\"\n",
      "[1] \"Germany\"\n",
      "Vaccine manufacturers in the dataframe are: [1] Johnson&Johnson    Moderna            Novavax            Oxford/AstraZeneca\n",
      "[5] Pfizer/BioNTech   \n",
      "10 Levels: CanSino Covaxin Johnson&Johnson Moderna ... Sputnik V\n"
     ]
    },
    {
     "data": {
      "image/png": "[encoded data removed]",
      "text/plain": [
       "Plot with title \"Total Vaccinatioins vs Time\""
      ]
     },
     "metadata": {},
     "output_type": "display_data"
    },
    {
     "data": {
      "image/png": "[encoded data removed]",
      "text/plain": [
       "Plot with title \"Shot per day\""
      ]
     },
     "metadata": {},
     "output_type": "display_data"
    }
   ],
   "source": [
    "Nested_function('Germany')"
   ]
  },
  {
   "cell_type": "code",
   "execution_count": 20,
   "id": "8d3359f4",
   "metadata": {},
   "outputs": [
    {
     "name": "stdout",
     "output_type": "stream",
     "text": [
      "[1] \"Country selected:\"\n",
      "[1] \"United States\"\n",
      "Vaccine manufacturers in the dataframe are: [1] Moderna         Pfizer/BioNTech Johnson&Johnson\n",
      "10 Levels: CanSino Covaxin Johnson&Johnson Moderna ... Sputnik V\n"
     ]
    },
    {
     "data": {
      "image/png": "[encoded data removed]",
      "text/plain": [
       "Plot with title \"Total Vaccinatioins vs Time\""
      ]
     },
     "metadata": {},
     "output_type": "display_data"
    },
    {
     "data": {
      "image/png": "[encoded data removed]",
      "text/plain": [
       "Plot with title \"Shot per day\""
      ]
     },
     "metadata": {},
     "output_type": "display_data"
    }
   ],
   "source": [
    "Nested_function('United States')"
   ]
  },
  {
   "cell_type": "code",
   "execution_count": 21,
   "id": "5bb51b12",
   "metadata": {
    "scrolled": false
   },
   "outputs": [
    {
     "data": {
      "image/png": "[encoded data removed]",
      "text/plain": [
       "Plot with title \"Europe daily vaccinations\""
      ]
     },
     "metadata": {},
     "output_type": "display_data"
    }
   ],
   "source": [
    "#5\n",
    "db <- read.csv(\"vaccinations.csv\")\n",
    "db1 <- db[db$location=='Europe',]\n",
    "plot(as.Date(db1$date),db1$daily_vaccinations_per_million, type=\"l\", col=\"blue\",\n",
    "         main=\"Europe daily vaccinations\", xlab=\"Date\", ylab=\"vaccinations per million\")"
   ]
  },
  {
   "cell_type": "markdown",
   "id": "701783e1",
   "metadata": {},
   "source": [
    "### 4.6"
   ]
  },
  {
   "cell_type": "markdown",
   "id": "9d1bb746",
   "metadata": {},
   "source": [
    "World daily vaccinations and Europe/America/Russia contributes"
   ]
  },
  {
   "cell_type": "code",
   "execution_count": 22,
   "id": "fcf70657",
   "metadata": {
    "scrolled": false
   },
   "outputs": [
    {
     "data": {
      "image/png": "[encoded data removed]",
      "text/plain": [
       "Plot with title \"red=America blue=Europe green=Russia\""
      ]
     },
     "metadata": {},
     "output_type": "display_data"
    }
   ],
   "source": [
    "db_US <- db[db$location=='United States',]\n",
    "db_RUS <- db[db$location=='Russia',]\n",
    "db_W <- db[db$location=='World',]\n",
    "plot(as.Date(db_W$date),db_W$daily_vaccinations*0.5, type=\"l\", col=\"black\",\n",
    "         main=\"red=America blue=Europe green=Russia\", xlab=\"Date\", ylab=\"daily vaccinations\")\n",
    "lines(as.Date(db1$date),db1$daily_vaccinations, type=\"l\", col=\"blue\")\n",
    "lines(as.Date(db_RUS$date),db_RUS$daily_vaccinations, type=\"l\", col=\"green\")\n",
    "lines(as.Date(db_US$date),db_US$daily_vaccinations, type=\"l\", col=\"red\")"
   ]
  },
  {
   "cell_type": "markdown",
   "id": "3646cb5a",
   "metadata": {},
   "source": [
    "polynomial (8th grade) fit of World daily vaccination"
   ]
  },
  {
   "cell_type": "code",
   "execution_count": 23,
   "id": "fe4f9838",
   "metadata": {},
   "outputs": [
    {
     "data": {
      "image/png": "[encoded data removed]",
      "text/plain": [
       "Plot with title \"World daily vaccinations Fit\""
      ]
     },
     "metadata": {},
     "output_type": "display_data"
    }
   ],
   "source": [
    "datas <- db_W$daily_vaccinations\n",
    "model <- lm(datas ~ poly(as.Date(db_W$date), degree=8))\n",
    "plot(as.Date(db_W$date),db_W$daily_vaccinations, col=\"gray\",\n",
    "         main=\"World daily vaccinations Fit\", xlab=\"Date\", ylab=\"daily vaccinations\")\n",
    "lines(smooth.spline(as.Date(db_W$date), predict(model)), type=\"l\", col=\"blue\")"
   ]
  },
  {
   "cell_type": "code",
   "execution_count": null,
   "id": "471df8d5",
   "metadata": {},
   "outputs": [],
   "source": []
  }
 ],
 "metadata": {
  "kernelspec": {
   "display_name": "R [conda env:r-tutorial]",
   "language": "R",
   "name": "conda-env-r-tutorial-r"
  },
  "language_info": {
   "codemirror_mode": "r",
   "file_extension": ".r",
   "mimetype": "text/x-r-source",
   "name": "R",
   "pygments_lexer": "r",
   "version": "3.6.1"
  }
 },
 "nbformat": 4,
 "nbformat_minor": 5
}
