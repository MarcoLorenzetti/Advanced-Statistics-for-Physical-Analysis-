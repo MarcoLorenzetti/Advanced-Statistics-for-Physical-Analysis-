{
 "cells": [
  {
   "cell_type": "code",
   "execution_count": 1,
   "id": "fe3b03df",
   "metadata": {},
   "outputs": [
    {
     "name": "stderr",
     "output_type": "stream",
     "text": [
      "Loading required package: KernSmooth\n",
      "KernSmooth 2.23 loaded\n",
      "Copyright M. P. Wand 1997-2009\n"
     ]
    }
   ],
   "source": [
    "library('GoFKernel')"
   ]
  },
  {
   "cell_type": "markdown",
   "id": "ecab268a",
   "metadata": {},
   "source": [
    "## Exercise 1"
   ]
  },
  {
   "cell_type": "markdown",
   "id": "776bfc7d",
   "metadata": {},
   "source": [
    "I found the *$E[x]$* and the *Var(x)* for both models using the definition:\n",
    "\n",
    "\\begin{equation}\n",
    "E[X] = \\sum_{i} x_i p(x_i)\\\\\n",
    "Var(X) = E[X^2] − (E[X])^2\n",
    "\\end{equation}\n"
   ]
  },
  {
   "cell_type": "code",
   "execution_count": 2,
   "id": "edfdf052",
   "metadata": {},
   "outputs": [
    {
     "data": {
      "text/html": [
       "<ol class=list-inline>\n",
       "\t<li>'Expectation value for model 1 is'</li>\n",
       "\t<li>'15.959'</li>\n",
       "\t<li>'with Variance'</li>\n",
       "\t<li>'0.034'</li>\n",
       "</ol>\n"
      ],
      "text/latex": [
       "\\begin{enumerate*}\n",
       "\\item 'Expectation value for model 1 is'\n",
       "\\item '15.959'\n",
       "\\item 'with Variance'\n",
       "\\item '0.034'\n",
       "\\end{enumerate*}\n"
      ],
      "text/markdown": [
       "1. 'Expectation value for model 1 is'\n",
       "2. '15.959'\n",
       "3. 'with Variance'\n",
       "4. '0.034'\n",
       "\n",
       "\n"
      ],
      "text/plain": [
       "[1] \"Expectation value for model 1 is\" \"15.959\"                          \n",
       "[3] \"with Variance\"                    \"0.034\"                           "
      ]
     },
     "metadata": {},
     "output_type": "display_data"
    },
    {
     "data": {
      "text/html": [
       "<ol class=list-inline>\n",
       "\t<li>'Expectation value for model 1 is'</li>\n",
       "\t<li>'15.9622'</li>\n",
       "\t<li>'with Variance'</li>\n",
       "\t<li>'0.0282'</li>\n",
       "</ol>\n"
      ],
      "text/latex": [
       "\\begin{enumerate*}\n",
       "\\item 'Expectation value for model 1 is'\n",
       "\\item '15.9622'\n",
       "\\item 'with Variance'\n",
       "\\item '0.0282'\n",
       "\\end{enumerate*}\n"
      ],
      "text/markdown": [
       "1. 'Expectation value for model 1 is'\n",
       "2. '15.9622'\n",
       "3. 'with Variance'\n",
       "4. '0.0282'\n",
       "\n",
       "\n"
      ],
      "text/plain": [
       "[1] \"Expectation value for model 1 is\" \"15.9622\"                         \n",
       "[3] \"with Variance\"                    \"0.0282\"                          "
      ]
     },
     "metadata": {},
     "output_type": "display_data"
    }
   ],
   "source": [
    "x <- c(15.58, 15.9, 16, 16.1, 16.2)\n",
    "p1 <- c(0.15, 0.21, 0.35, 0.15, 0.14)\n",
    "p2 <- c(0.14, 0.05, 0.64, 0.08, 0.09)\n",
    "exp1 <- sum(x*p1)\n",
    "exp2 <- sum(x*p2)\n",
    "var1 <- sum(x*x*p1)-exp1^2\n",
    "var2 <- sum(x*x*p2)-exp2^2\n",
    "sprintf(paste(c(\"Expectation value for model 1 is\", exp1, \"with Variance\", round(var1,4))))\n",
    "sprintf(paste(c(\"Expectation value for model 1 is\", exp2, \"with Variance\", round(var2,4))))"
   ]
  },
  {
   "cell_type": "markdown",
   "id": "91ee15bb",
   "metadata": {},
   "source": [
    "## Exercise 2"
   ]
  },
  {
   "cell_type": "markdown",
   "id": "004b4a86",
   "metadata": {},
   "source": [
    "A) Using the function that generates random numbers starting from an exponential distribution ( $rexp()$ ) we can simulate the waiting times of 50 people and then insert the relative frequencies into a histogram"
   ]
  },
  {
   "cell_type": "code",
   "execution_count": 3,
   "id": "a33d8e82",
   "metadata": {},
   "outputs": [
    {
     "data": {
      "image/png": "[encoded data removed]",
      "text/plain": [
       "Plot with title \"Waiting Time Histogram\""
      ]
     },
     "metadata": {},
     "output_type": "display_data"
    }
   ],
   "source": [
    "#A\n",
    "lambda <- 1/30\n",
    "datas <- rexp(1:50,lambda)\n",
    "hist(datas,\n",
    "main=\"Waiting Time Histogram\",\n",
    "xlab=\"Minutes\",\n",
    "col=\"darkmagenta\", density=50,\n",
    "freq=TRUE\n",
    ")\n"
   ]
  },
  {
   "cell_type": "markdown",
   "id": "5f85eadd",
   "metadata": {},
   "source": [
    "B) To find the result I would have to integrate the values of the *pdf* from 0 to 10, but I can also compute the value of the cumulative distribution function (in the case of an exponential distribution: *pexp()* ) for x = 10"
   ]
  },
  {
   "cell_type": "code",
   "execution_count": 4,
   "id": "a573bc95",
   "metadata": {},
   "outputs": [
    {
     "data": {
      "text/html": [
       "'The probability that a person will wait for less than 10 minutes 1.00'"
      ],
      "text/latex": [
       "'The probability that a person will wait for less than 10 minutes 1.00'"
      ],
      "text/markdown": [
       "'The probability that a person will wait for less than 10 minutes 1.00'"
      ],
      "text/plain": [
       "[1] \"The probability that a person will wait for less than 10 minutes 1.00\""
      ]
     },
     "metadata": {},
     "output_type": "display_data"
    }
   ],
   "source": [
    "p <- pexp(10, 1/lambda)\n",
    "sprintf(\"The probability that a person will wait for less than 10 minutes %.2f\", p)"
   ]
  },
  {
   "cell_type": "markdown",
   "id": "b2e683d9",
   "metadata": {},
   "source": [
    "C) to compute the average of the data just use the mean() function; the expected value is theoretically lambda, while it can be computed using a set of values (from 1 to 200 in this case) and the relative probabilities, applying the definition"
   ]
  },
  {
   "cell_type": "code",
   "execution_count": 5,
   "id": "d69d8553",
   "metadata": {},
   "outputs": [
    {
     "data": {
      "text/html": [
       "'The average waiting time from the simulated data is 23.86, and the expected value is 30.00'"
      ],
      "text/latex": [
       "'The average waiting time from the simulated data is 23.86, and the expected value is 30.00'"
      ],
      "text/markdown": [
       "'The average waiting time from the simulated data is 23.86, and the expected value is 30.00'"
      ],
      "text/plain": [
       "[1] \"The average waiting time from the simulated data is 23.86, and the expected value is 30.00\""
      ]
     },
     "metadata": {},
     "output_type": "display_data"
    },
    {
     "data": {
      "text/html": [
       "<span style=white-space:pre-wrap>'The expected value computed manipulating the probability distribution is  30.25'</span>"
      ],
      "text/latex": [
       "'The expected value computed manipulating the probability distribution is  30.25'"
      ],
      "text/markdown": [
       "<span style=white-space:pre-wrap>'The expected value computed manipulating the probability distribution is  30.25'</span>"
      ],
      "text/plain": [
       "[1] \"The expected value computed manipulating the probability distribution is  30.25\""
      ]
     },
     "metadata": {},
     "output_type": "display_data"
    }
   ],
   "source": [
    "avg <- mean(datas)\n",
    "sprintf(\"The average waiting time from the simulated data is %.2f, and the expected value is %.2f\", avg, 1/lambda)\n",
    "probs <- dexp(1:200, rate=lambda)\n",
    "exp_computed <- sum((1:200)*probs)/sum(probs)\n",
    "sprintf(\"The expected value computed manipulating the probability distribution is  %.2f\", exp_computed)"
   ]
  },
  {
   "cell_type": "markdown",
   "id": "6b9fcb07",
   "metadata": {},
   "source": [
    "D)"
   ]
  },
  {
   "cell_type": "code",
   "execution_count": 6,
   "id": "38a57aee",
   "metadata": {},
   "outputs": [
    {
     "data": {
      "text/html": [
       "'The probability for waiting more than one hour before being received is 0.14'"
      ],
      "text/latex": [
       "'The probability for waiting more than one hour before being received is 0.14'"
      ],
      "text/markdown": [
       "'The probability for waiting more than one hour before being received is 0.14'"
      ],
      "text/plain": [
       "[1] \"The probability for waiting more than one hour before being received is 0.14\""
      ]
     },
     "metadata": {},
     "output_type": "display_data"
    }
   ],
   "source": [
    "p_1h <- 1 - pexp(60, lambda)\n",
    "sprintf(\"The probability for waiting more than one hour before being received is %.2f\", p_1h)"
   ]
  },
  {
   "cell_type": "markdown",
   "id": "dafe0cfb",
   "metadata": {},
   "source": [
    "## Exercise 3"
   ]
  },
  {
   "cell_type": "code",
   "execution_count": 7,
   "id": "af9e8b3f",
   "metadata": {},
   "outputs": [
    {
     "data": {
      "image/png": "[encoded data removed]",
      "text/plain": [
       "Plot with title \"Typo Error - PDF: blue  CDF: green\""
      ]
     },
     "metadata": {},
     "output_type": "display_data"
    }
   ],
   "source": [
    "lambda2 <- 1/3\n",
    "d <- dpois(1:10,lambda2)\n",
    "c <- ppois(1:10,lambda2)\n",
    "plot(1:10, c, type = \"l\", col='green', xlab = \"Errors\", ylab = \"Probability\" ,\n",
    "     main = \"Typo Error - PDF: blue  CDF: green\", ylim = c(0, max(c)))\n",
    "lines(1:10, d, type = \"l\", col='blue')"
   ]
  },
  {
   "cell_type": "code",
   "execution_count": 8,
   "id": "4de5f92f",
   "metadata": {},
   "outputs": [
    {
     "data": {
      "text/html": [
       "<span style=white-space:pre-wrap>'The probability of having at least one error on a specific page is  0.28'</span>"
      ],
      "text/latex": [
       "'The probability of having at least one error on a specific page is  0.28'"
      ],
      "text/markdown": [
       "<span style=white-space:pre-wrap>'The probability of having at least one error on a specific page is  0.28'</span>"
      ],
      "text/plain": [
       "[1] \"The probability of having at least one error on a specific page is  0.28\""
      ]
     },
     "metadata": {},
     "output_type": "display_data"
    }
   ],
   "source": [
    "prob_least1 <- 1-ppois(0, lambda2) \n",
    "sprintf(\"The probability of having at least one error on a specific page is  %.2f\", prob_least1)"
   ]
  },
  {
   "cell_type": "markdown",
   "id": "d7506338",
   "metadata": {},
   "source": [
    "## Exercise 4"
   ]
  },
  {
   "cell_type": "code",
   "execution_count": 9,
   "id": "5b17f05f",
   "metadata": {},
   "outputs": [],
   "source": [
    "prob <- 1/13\n",
    "k <- 1\n",
    "n <- 10\n",
    "vector_n <- 10:(52-4)"
   ]
  },
  {
   "cell_type": "markdown",
   "id": "9604155d",
   "metadata": {},
   "source": [
    "The distribution that describes the necessary number of attempts to succeed is the *geometric distribution*\n",
    "\\begin{equation}\n",
    " P(X=x) = (1 - p)^{x-1}\\cdot p\n",
    "\\end{equation}\n",
    "where $p$ is the success probability and $x$ is the number of attemps "
   ]
  },
  {
   "cell_type": "code",
   "execution_count": 10,
   "id": "a13bebad",
   "metadata": {},
   "outputs": [
    {
     "data": {
      "text/html": [
       "'The probability that at least 10 draws are needed is: 0.449'"
      ],
      "text/latex": [
       "'The probability that at least 10 draws are needed is: 0.449'"
      ],
      "text/markdown": [
       "'The probability that at least 10 draws are needed is: 0.449'"
      ],
      "text/plain": [
       "[1] \"The probability that at least 10 draws are needed is: 0.449\""
      ]
     },
     "metadata": {},
     "output_type": "display_data"
    }
   ],
   "source": [
    "prob10 = 1 - pgeom(9, 1/13)\n",
    "sprintf(\"The probability that at least 10 draws are needed is: %.3f\", prob10)"
   ]
  },
  {
   "cell_type": "markdown",
   "id": "a1449a06",
   "metadata": {},
   "source": [
    "## Exercise 5"
   ]
  },
  {
   "cell_type": "markdown",
   "id": "6d8b2f6d",
   "metadata": {},
   "source": [
    "A) Analytical solution:\n",
    "\\begin{equation}\n",
    "\\int_{1}^{2} c(t-1)(2-t) d t=c\\left[-\\frac{t^{3}}{3}+\\frac{3}{2} t-2\\right]_{1}^{2}=c \\cdot \\frac{1}{6}=1 \\rightarrow c=6\n",
    "\\end{equation}"
   ]
  },
  {
   "cell_type": "code",
   "execution_count": 11,
   "id": "a0ca4284",
   "metadata": {},
   "outputs": [
    {
     "data": {
      "text/html": [
       "'c = 6.00'"
      ],
      "text/latex": [
       "'c = 6.00'"
      ],
      "text/markdown": [
       "'c = 6.00'"
      ],
      "text/plain": [
       "[1] \"c = 6.00\""
      ]
     },
     "metadata": {},
     "output_type": "display_data"
    }
   ],
   "source": [
    "pdf <- function(t){(t-1)*(2-t)}\n",
    "F <- integrate(pdf, lower=1, upper=2)\n",
    "c <- 1/(F$value)\n",
    "sprintf(\"c = %.2f\", c)"
   ]
  },
  {
   "cell_type": "markdown",
   "id": "6cd41ca0",
   "metadata": {},
   "source": [
    "B)"
   ]
  },
  {
   "cell_type": "code",
   "execution_count": 12,
   "id": "9543001d",
   "metadata": {},
   "outputs": [],
   "source": [
    "dpdf5 <- function (t) {\n",
    "    f <- ifelse((t>1 & t<2), c*(t-1)*(2-t), 0)\n",
    "    return (f)\n",
    "}\n",
    "dpdf5 <- Vectorize(dpdf5)"
   ]
  },
  {
   "cell_type": "markdown",
   "id": "74a1c31b",
   "metadata": {},
   "source": [
    "The definition of the *cumulative distribution function* is $F(x) = \\int_{-\\infty}^x f(t) dt$. Made exception for $F(t<1)=0$ and $F(t>2)=1$ we can use the solution of the integral found before, as analytical solution: \n",
    "\n",
    "$$\n",
    "F(x) = 6 \\cdot \\left[-\\frac{t^{3}}{3}+\\frac{3}{2} t-2\\right]_{1}^{x}\n",
    "$$\n",
    "or use the *integrate()* R function"
   ]
  },
  {
   "cell_type": "code",
   "execution_count": 13,
   "id": "c40a6439",
   "metadata": {},
   "outputs": [],
   "source": [
    "ppdf5 <- function(x) {\n",
    "    f <- ifelse((x>1 & x<2), \n",
    "                integrate(dpdf5,1,x)$value,\n",
    "                ifelse(x <= 1, 0, 1)\n",
    "          )\n",
    "    return (f)\n",
    "}\n",
    "ppdf5 <- Vectorize(ppdf5)"
   ]
  },
  {
   "cell_type": "code",
   "execution_count": 14,
   "id": "b142cb12",
   "metadata": {},
   "outputs": [
    {
     "data": {
      "image/png": "[encoded data removed]",
      "text/plain": [
       "Plot with title \"probability density function\""
      ]
     },
     "metadata": {},
     "output_type": "display_data"
    }
   ],
   "source": [
    "a <- seq(0,3,0.01)\n",
    "plot(a, dpdf5(a), type='l', col='darkgreen', main=\"probability density function\", xlab='time [hours]')"
   ]
  },
  {
   "cell_type": "code",
   "execution_count": 15,
   "id": "a8ede8fd",
   "metadata": {},
   "outputs": [
    {
     "data": {
      "image/png": "[encoded data removed]",
      "text/plain": [
       "Plot with title \"cumulative density function\""
      ]
     },
     "metadata": {},
     "output_type": "display_data"
    }
   ],
   "source": [
    "plot(a, ppdf5(a), type='l', main=\"cumulative density function\", xlab='time [hours]')"
   ]
  },
  {
   "cell_type": "markdown",
   "id": "1a63532a",
   "metadata": {},
   "source": [
    "The *quantile distribution* is for definition the inverse of cdf, then we can compute analytically the inverse function of cdf in the range $[1,2]$ and set $1$ for $t<1$ and $0$ for $t>2$, as analytical solution, or use the *inverse()* R function to compute it"
   ]
  },
  {
   "cell_type": "code",
   "execution_count": 16,
   "id": "1af8a24f",
   "metadata": {},
   "outputs": [],
   "source": [
    "qpdf5 <- inverse(ppdf5, 1, 2)"
   ]
  },
  {
   "cell_type": "markdown",
   "id": "4a333221",
   "metadata": {},
   "source": [
    "Lastly i defined a *rand_generator()* function that generates N random values following a given distribution. Then i tested it for a simulation with 200 students"
   ]
  },
  {
   "cell_type": "code",
   "execution_count": 24,
   "id": "7d19a43c",
   "metadata": {},
   "outputs": [
    {
     "data": {
      "image/png": "[encoded data removed]",
      "text/plain": [
       "Plot with title \"Simulation for 200 students\""
      ]
     },
     "metadata": {},
     "output_type": "display_data"
    }
   ],
   "source": [
    "rpdf5 <- function(N, lower, upper){\n",
    "    #random N points in the range (0,1)\n",
    "    points <- runif(N)\n",
    "    #lower and upper to specify the desired interval\n",
    "    rfunc <- Vectorize(inverse(ppdf5, lower, upper))\n",
    "    return (rfunc(points))\n",
    "}\n",
    "students <- 200\n",
    "hist(rpdf5(students, 1, 2), main='Simulation for 200 students', xlab='time [hours]',\n",
    "    col=\"blue\", density=50, freq=TRUE)"
   ]
  },
  {
   "cell_type": "markdown",
   "id": "b6fa3293",
   "metadata": {},
   "source": [
    "C)"
   ]
  },
  {
   "cell_type": "code",
   "execution_count": 25,
   "id": "28a98428",
   "metadata": {},
   "outputs": [
    {
     "data": {
      "text/html": [
       "'The probability that the student will finish the aptitude test in more than 75 minutes is 0.718'"
      ],
      "text/latex": [
       "'The probability that the student will finish the aptitude test in more than 75 minutes is 0.718'"
      ],
      "text/markdown": [
       "'The probability that the student will finish the aptitude test in more than 75 minutes is 0.718'"
      ],
      "text/plain": [
       "[1] \"The probability that the student will finish the aptitude test in more than 75 minutes is 0.718\""
      ]
     },
     "metadata": {},
     "output_type": "display_data"
    },
    {
     "data": {
      "text/html": [
       "'The probability that the student will finish the aptitude test in 90 minutes is 1.500'"
      ],
      "text/latex": [
       "'The probability that the student will finish the aptitude test in 90 minutes is 1.500'"
      ],
      "text/markdown": [
       "'The probability that the student will finish the aptitude test in 90 minutes is 1.500'"
      ],
      "text/plain": [
       "[1] \"The probability that the student will finish the aptitude test in 90 minutes is 1.500\""
      ]
     },
     "metadata": {},
     "output_type": "display_data"
    },
    {
     "data": {
      "text/html": [
       "'The probability that the student will finish the aptitude test in 2 hours is 0.000'"
      ],
      "text/latex": [
       "'The probability that the student will finish the aptitude test in 2 hours is 0.000'"
      ],
      "text/markdown": [
       "'The probability that the student will finish the aptitude test in 2 hours is 0.000'"
      ],
      "text/plain": [
       "[1] \"The probability that the student will finish the aptitude test in 2 hours is 0.000\""
      ]
     },
     "metadata": {},
     "output_type": "display_data"
    }
   ],
   "source": [
    "prob_more_75 <- 1 - ppdf5(1.35)\n",
    "prob_90 <- dpdf5(1.5)\n",
    "prob_120 <- dpdf5(2)\n",
    "sprintf(\"The probability that the student will finish the aptitude test in more than 75 minutes is %.3f\", prob_more_75)\n",
    "sprintf(\"The probability that the student will finish the aptitude test in 90 minutes is %.3f\", prob_90) #can't understand the issue\n",
    "sprintf(\"The probability that the student will finish the aptitude test in 2 hours is %.3f\", prob_120)"
   ]
  },
  {
   "cell_type": "markdown",
   "id": "4fb841cf",
   "metadata": {},
   "source": [
    "## Exercise 6\n",
    "A)"
   ]
  },
  {
   "cell_type": "code",
   "execution_count": 19,
   "id": "7835ce5d",
   "metadata": {},
   "outputs": [
    {
     "data": {
      "image/png": "[encoded data removed]",
      "text/plain": [
       "Plot with title \"probability density function\""
      ]
     },
     "metadata": {},
     "output_type": "display_data"
    }
   ],
   "source": [
    "dfunc6 <- function(x){\n",
    "    f <- ifelse((x>1 & x<2), \n",
    "                2/(x^2),\n",
    "                0\n",
    "          )\n",
    "    return (f)\n",
    "}\n",
    "dfunc6 <- Vectorize(dfunc6)\n",
    "xx=seq(0,3,0.01)\n",
    "plot(xx, dfunc6(xx), type='l', col='darkgreen', main=\"probability density function\", xlab='Duration [10^4 Km]')"
   ]
  },
  {
   "cell_type": "code",
   "execution_count": 20,
   "id": "58743b9f",
   "metadata": {},
   "outputs": [
    {
     "data": {
      "image/png": "[encoded data removed]",
      "text/plain": [
       "Plot with title \"cumulative density function\""
      ]
     },
     "metadata": {},
     "output_type": "display_data"
    }
   ],
   "source": [
    "pfunc6 <- function(x) {\n",
    "    f <- ifelse((x>1 & x<2), \n",
    "                integrate(dfunc6,1,x)$value,\n",
    "                ifelse(x <= 1, 0, 1)\n",
    "          )\n",
    "    return (f)\n",
    "}\n",
    "pfunc6 <- Vectorize(pfunc6)\n",
    "plot(xx, pfunc6(xx), type='l', col='blue', main=\"cumulative density function\", xlab='Duration [10^4 Km]')"
   ]
  },
  {
   "cell_type": "code",
   "execution_count": 21,
   "id": "7335747f",
   "metadata": {},
   "outputs": [],
   "source": [
    "qfunc6 <- inverse(pfunc6, 1, 2)\n",
    "rfunc6 <- function(N, lower, upper){\n",
    "    #random N points in the range (0,1)\n",
    "    points <- runif(N)\n",
    "    #lower and upper to specify the desired interval\n",
    "    rfunc <- Vectorize(inverse(pfunc6, lower, upper))\n",
    "    return (rfunc(points))\n",
    "}"
   ]
  },
  {
   "cell_type": "markdown",
   "id": "3662acdc",
   "metadata": {},
   "source": [
    "B)"
   ]
  },
  {
   "cell_type": "code",
   "execution_count": 22,
   "id": "cea4740a",
   "metadata": {},
   "outputs": [
    {
     "data": {
      "text/html": [
       "'The probability that the probability that tires will last less than 15000 km is 0.667'"
      ],
      "text/latex": [
       "'The probability that the probability that tires will last less than 15000 km is 0.667'"
      ],
      "text/markdown": [
       "'The probability that the probability that tires will last less than 15000 km is 0.667'"
      ],
      "text/plain": [
       "[1] \"The probability that the probability that tires will last less than 15000 km is 0.667\""
      ]
     },
     "metadata": {},
     "output_type": "display_data"
    }
   ],
   "source": [
    "sprintf(\"The probability that the probability that tires will last less than 15000 km is %.3f\", pfunc6(1.5))"
   ]
  },
  {
   "cell_type": "markdown",
   "id": "373a5250",
   "metadata": {},
   "source": [
    "C)"
   ]
  },
  {
   "cell_type": "code",
   "execution_count": 23,
   "id": "b1d96f10",
   "metadata": {},
   "outputs": [
    {
     "data": {
      "text/html": [
       "'The expected value is 1.282'"
      ],
      "text/latex": [
       "'The expected value is 1.282'"
      ],
      "text/markdown": [
       "'The expected value is 1.282'"
      ],
      "text/plain": [
       "[1] \"The expected value is 1.282\""
      ]
     },
     "metadata": {},
     "output_type": "display_data"
    },
    {
     "data": {
      "text/html": [
       "'The variance is 0.062'"
      ],
      "text/latex": [
       "'The variance is 0.062'"
      ],
      "text/markdown": [
       "'The variance is 0.062'"
      ],
      "text/plain": [
       "[1] \"The variance is 0.062\""
      ]
     },
     "metadata": {},
     "output_type": "display_data"
    },
    {
     "data": {
      "image/png": "[encoded data removed]",
      "text/plain": [
       "Plot with title \"Simulation for 3000 tires  (blu dashed line: E[x])\""
      ]
     },
     "metadata": {},
     "output_type": "display_data"
    }
   ],
   "source": [
    "tires <- 3000\n",
    "rnd_samples <- rfunc6(tires, 1, 2)\n",
    "mean6 <- sum(rnd_samples*dfunc6(rnd_samples))/sum(dfunc6(rnd_samples))\n",
    "var6 <- sum((rnd_samples^2)*dfunc6(rnd_samples))/sum(dfunc6(rnd_samples)) - mean6^2\n",
    "sprintf(\"The expected value is %.3f\", mean6)\n",
    "sprintf(\"The variance is %.3f\", var6)\n",
    "\n",
    "hist(rnd_samples, main='Simulation for 3000 tires  (blu dashed line: E[x])', xlab='Duration [10^4 Km]',\n",
    "     col=\"darkgreen\", density=50, freq=TRUE)\n",
    "abline(v=mean6,col=\"blue\",lwd=2, lty=2)"
   ]
  },
  {
   "cell_type": "code",
   "execution_count": null,
   "id": "19eda667",
   "metadata": {},
   "outputs": [],
   "source": []
  }
 ],
 "metadata": {
  "kernelspec": {
   "display_name": "R [conda env:r-tutorial]",
   "language": "R",
   "name": "conda-env-r-tutorial-r"
  },
  "language_info": {
   "codemirror_mode": "r",
   "file_extension": ".r",
   "mimetype": "text/x-r-source",
   "name": "R",
   "pygments_lexer": "r",
   "version": "3.6.1"
  }
 },
 "nbformat": 4,
 "nbformat_minor": 5
}
